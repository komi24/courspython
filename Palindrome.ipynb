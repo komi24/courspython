{
 "cells": [
  {
   "cell_type": "code",
   "execution_count": 1,
   "metadata": {
    "collapsed": false
   },
   "outputs": [
    {
     "name": "stdout",
     "output_type": "stream",
     "text": [
      "ruojnoB\n"
     ]
    }
   ],
   "source": [
    "print(\"Bonjour\"[::-1])"
   ]
  },
  {
   "cell_type": "code",
   "execution_count": 8,
   "metadata": {
    "collapsed": false
   },
   "outputs": [
    {
     "name": "stdout",
     "output_type": "stream",
     "text": [
      "['a', 'b', 'c', 'd', 'q']\n"
     ]
    }
   ],
   "source": [
    "# Deuxième exercice trouver les anagrammes\n",
    "a = [i for i in \"dqabc\"]\n",
    "a.sort()\n",
    "print(a)\n"
   ]
  },
  {
   "cell_type": "code",
   "execution_count": 16,
   "metadata": {
    "collapsed": false
   },
   "outputs": [
    {
     "name": "stdout",
     "output_type": "stream",
     "text": [
      "['aqcr']\n"
     ]
    }
   ],
   "source": [
    "print(\"aqcr\".split())"
   ]
  },
  {
   "cell_type": "code",
   "execution_count": 17,
   "metadata": {
    "collapsed": false
   },
   "outputs": [
    {
     "name": "stdout",
     "output_type": "stream",
     "text": [
      "{}\n",
      "{'cle1': []}\n"
     ]
    }
   ],
   "source": [
    "mon_dico = dict()\n",
    "ton_dico = {'cle1': []}\n",
    "\n",
    "print(mon_dico)\n",
    "print(ton_dico)"
   ]
  },
  {
   "cell_type": "code",
   "execution_count": 28,
   "metadata": {
    "collapsed": false
   },
   "outputs": [
    {
     "name": "stdout",
     "output_type": "stream",
     "text": [
      "{'bjnooru': ['bonjour', 'bonjoru'], 'aeilr': ['ariel']}\n",
      "True\n"
     ]
    }
   ],
   "source": [
    "def isAnagram(mot1, mot2):\n",
    "    mot1 = [i for i in mot1]\n",
    "    mot1.sort()\n",
    "    mot1 = \"\".join(mot1)\n",
    "\n",
    "    mot2 = [i for i in mot1]\n",
    "    mot2.sort()\n",
    "    mot2 = \"\".join(mot1)\n",
    "    return mot1 == mot2\n",
    "\n",
    "\n",
    "ma_liste = [\"bonjour\", \"bonjoru\", \"ariel\"]\n",
    "resultat = dict()\n",
    "for mot in ma_liste:\n",
    "    cle = [i for i in mot]\n",
    "    cle.sort()\n",
    "    cle = \"\".join(cle)\n",
    "    if cle not in resultat:\n",
    "        resultat[cle]=[mot]\n",
    "    else:\n",
    "        if mot not in resultat[cle]:\n",
    "            resultat[cle].append(mot)\n",
    "print(resultat)\n",
    "\n",
    "print(isAnagram(ma_liste[0],ma_liste[1]))"
   ]
  },
  {
   "cell_type": "code",
   "execution_count": null,
   "metadata": {
    "collapsed": true
   },
   "outputs": [],
   "source": [
    "#def moyenne(a, b):\n",
    "#    print(\"array\")\n",
    "#    return 0.5 * (a+b)\n",
    "\n",
    "def moyenne(note1=0, note2=0):\n",
    "    print(\"dictionary\")\n",
    "    return 0.5 * (note1+note2)\n",
    "\n",
    "notes1 = [3, 8]\n",
    "notes2 = {'note1':4, 'note2':8}\n",
    "# La liste notes1 est depaquetee en arguments unitaires\n",
    "print(moyenne(*notes1))\n",
    "# Le dictionnaire notes2 est depaquete en arguments unitaires\n",
    "print(moyenne(**notes2))\n",
    "    "
   ]
  },
  {
   "cell_type": "code",
   "execution_count": 34,
   "metadata": {
    "collapsed": false
   },
   "outputs": [
    {
     "name": "stdout",
     "output_type": "stream",
     "text": [
      "(1, 2)\n",
      "{'k2': 12, 'k1': 11}\n"
     ]
    }
   ],
   "source": [
    "def my_method(*args, **kwds):\n",
    "    print(args)\n",
    "    print(kwds)\n",
    "\n",
    "# when you call the method\n",
    "my_method(1, 2, k1=11, k2=12)\n",
    "\n"
   ]
  },
  {
   "cell_type": "code",
   "execution_count": 35,
   "metadata": {
    "collapsed": true
   },
   "outputs": [],
   "source": [
    "class Personne:\n",
    "    compteur = 0\n",
    "    def __init__(self, nom, prenom):\n",
    "        self.__nom = nom\n",
    "        self.__prenom = prenom\n",
    "        self.__fullname = nom + \" \" + prenom\n",
    "        self.__nb_de_vue = 0\n",
    "        Personne.compteur +=1\n",
    "    def get_nom(self):\n",
    "        self._nb_de_vue +=1\n",
    "        return self.__nom\n",
    "    def set_nom(self, nom):\n",
    "        self.nom = nom\n",
    "        self.__fullname = nom + \" \" + self.prenom\n"
   ]
  },
  {
   "cell_type": "code",
   "execution_count": 39,
   "metadata": {
    "collapsed": false
   },
   "outputs": [
    {
     "name": "stdout",
     "output_type": "stream",
     "text": [
      "3\n"
     ]
    }
   ],
   "source": [
    "personne = Personne(\"Dupont\", \"Cedric\")\n",
    "personne.__nom = 'toto'\n",
    "print(Personne.compteur)"
   ]
  },
  {
   "cell_type": "code",
   "execution_count": null,
   "metadata": {
    "collapsed": true
   },
   "outputs": [],
   "source": []
  }
 ],
 "metadata": {
  "kernelspec": {
   "display_name": "Python 3",
   "language": "python",
   "name": "python3"
  },
  "language_info": {
   "codemirror_mode": {
    "name": "ipython",
    "version": 3
   },
   "file_extension": ".py",
   "mimetype": "text/x-python",
   "name": "python",
   "nbconvert_exporter": "python",
   "pygments_lexer": "ipython3",
   "version": "3.5.3"
  }
 },
 "nbformat": 4,
 "nbformat_minor": 0
}
