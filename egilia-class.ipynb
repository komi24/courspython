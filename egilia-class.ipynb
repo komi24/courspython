{
 "cells": [
  {
   "cell_type": "code",
   "execution_count": 4,
   "metadata": {
    "collapsed": false
   },
   "outputs": [
    {
     "name": "stdout",
     "output_type": "stream",
     "text": [
      "4\n",
      "0\n",
      "10\n",
      "0\n",
      "20\n"
     ]
    }
   ],
   "source": [
    "class Voiture:\n",
    "    def __init__(self, couleur=\"rouge\", nb_personnes):\n",
    "        self.couleur = couleur\n",
    "        self.nb_pers = nb_personnes\n",
    "        self.vitesse= 0\n",
    "        self.position = (0,0)\n",
    "    def set_vitesse(self, nouvelle_vitesse):\n",
    "        self.vitesse = nouvelle_vitesse\n",
    "    def set_position(self, position):\n",
    "        self.position = position\n",
    "\n",
    "voiture_de_francois = Voiture(\"rouge\", 4)\n",
    "print(voiture_de_francois.nb_pers)\n",
    "\n",
    "print(voiture_de_francois.vitesse)\n",
    "voiture_de_francois.vitesse = 10\n",
    "print(voiture_de_francois.vitesse)\n",
    "\n",
    "voiture_disma = Voiture(\"Jaune\", 3)\n",
    "print(voiture_disma.vitesse)\n",
    "voiture_disma.setVitesse(20)\n",
    "print(voiture_disma.vitesse)\n"
   ]
  },
  {
   "cell_type": "code",
   "execution_count": 13,
   "metadata": {
    "collapsed": false
   },
   "outputs": [],
   "source": [
    "from datetime import date\n",
    "\n",
    "class Personne:\n",
    "    def __init__(self, nom, prenom, date_naissance, nationalite):\n",
    "        self .nom= nom\n",
    "        self.prenom= prenom\n",
    "        self.date_naissance = date_naissance\n",
    "        self.nationalite= nationalite\n",
    "    def dire_bonjour(self):\n",
    "        print(\"Bonjour ! Je m'appelle %s %s\"%(self.prenom, self.nom))\n",
    "    def get_age(self):\n",
    "        today = date.today().year\n",
    "        return today - self.date_naissance\n",
    "    def __str__(self):\n",
    "        return self.prenom + \" \" + self.nom"
   ]
  },
  {
   "cell_type": "code",
   "execution_count": 12,
   "metadata": {
    "collapsed": false
   },
   "outputs": [
    {
     "name": "stdout",
     "output_type": "stream",
     "text": [
      "Bonjour ! Je m'appelle Henri Bolnet\n",
      "Henri Bolnet\n"
     ]
    }
   ],
   "source": [
    "une_personne = Personne(\"Bolnet\",\"Henri\", 1956)\n",
    "une_personne.dire_bonjour()\n",
    "une_personne.get_age()\n",
    "print(une_personne)"
   ]
  },
  {
   "cell_type": "code",
   "execution_count": 19,
   "metadata": {
    "collapsed": true
   },
   "outputs": [],
   "source": [
    "#class Client(Personne):\n",
    "#class Employee(Personne):\n",
    "class Francais(Personne):\n",
    "    def __init__(self,nom, prenom, date_naissance, niveau_de_cuisine):\n",
    "        Personne.__init__(self, nom, prenom, date_naissance, \"Francaise\")\n",
    "        self.niveau_de_cuisine= niveau_de_cuisine\n",
    "    #def dire_bonjour()\n",
    "\n",
    "class Anglais(Personne):\n",
    "    def __init__(self,nom, prenom, date_naissance, niveau_dhumour):\n",
    "        Personne.__init__(self, nom, prenom, date_naissance, \"Anglaise\")\n",
    "        self.niveau_dhumour= niveau_dhumour\n",
    "    def dire_bonjour(self):\n",
    "        print(\"Hello darling ! My name is %s %s\"%(self.prenom, self.nom))\n"
   ]
  },
  {
   "cell_type": "code",
   "execution_count": 21,
   "metadata": {
    "collapsed": false
   },
   "outputs": [
    {
     "name": "stdout",
     "output_type": "stream",
     "text": [
      "Bonjour ! Je m'appelle John Lennon\n"
     ]
    }
   ],
   "source": [
    "john_lennon = Anglais(\"Lennon\", \"John\", 1964, 6)\n",
    "Personne.dire_bonjour(john_lennon)"
   ]
  },
  {
   "cell_type": "code",
   "execution_count": null,
   "metadata": {
    "collapsed": true
   },
   "outputs": [],
   "source": []
  }
 ],
 "metadata": {
  "kernelspec": {
   "display_name": "Python 3",
   "language": "python",
   "name": "python3"
  },
  "language_info": {
   "codemirror_mode": {
    "name": "ipython",
    "version": 3
   },
   "file_extension": ".py",
   "mimetype": "text/x-python",
   "name": "python",
   "nbconvert_exporter": "python",
   "pygments_lexer": "ipython3",
   "version": "3.5.3"
  }
 },
 "nbformat": 4,
 "nbformat_minor": 0
}
