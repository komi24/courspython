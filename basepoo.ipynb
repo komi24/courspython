{
 "cells": [
  {
   "cell_type": "code",
   "execution_count": 1,
   "metadata": {
    "collapsed": false
   },
   "outputs": [
    {
     "name": "stdout",
     "output_type": "stream",
     "text": [
      "Hello World\n"
     ]
    }
   ],
   "source": [
    "from MonPackage import monModule as md\n",
    "\n",
    "md.printHelloWorld()"
   ]
  },
  {
   "cell_type": "code",
   "execution_count": 37,
   "metadata": {
    "collapsed": false
   },
   "outputs": [
    {
     "name": "stdout",
     "output_type": "stream",
     "text": [
      "pfiou\n",
      "Pfff\n"
     ]
    },
    {
     "data": {
      "text/plain": [
       "<__main__.SavingAccount at 0x1d1c90cfd68>"
      ]
     },
     "execution_count": 37,
     "metadata": {},
     "output_type": "execute_result"
    }
   ],
   "source": [
    "class EtreVivant:\n",
    "    def respirer(self):\n",
    "        print(\"pfiou\")\n",
    "class Personne(EtreVivant):\n",
    "    def __init__(self, nom, prenom, comptes=[]):\n",
    "        super().__init__()\n",
    "        self._nom = nom\n",
    "        self._prenom = prenom\n",
    "        self._age = 14\n",
    "        self._comptes = comptes\n",
    "        \n",
    "    def ma_methode(self):\n",
    "        print(\"coucou \"+self.prenom)\n",
    "    def __str__(self):\n",
    "        return \"Je m'appelle %s %s et j'ai %d ans\"%(self.prenom, self.nom, self.age)\n",
    "    def respirer(self):\n",
    "        super().respirer()\n",
    "        print(\"Pfff\")\n",
    "    def __add__(self, other):\n",
    "        return Personne(self.nom+other.nom, self.prenom+other.prenom)\n",
    "\n",
    "toto = Personne(\"Dupont\", \"Toto\")\n",
    "tata = Personne(\"Martin\", \"John\")\n",
    "toto.respirer()\n",
    "\n",
    "\n",
    "CreditAccount(BankAccount)\n",
    "SavingAccount(BankAccount)"
   ]
  },
  {
   "cell_type": "code",
   "execution_count": 23,
   "metadata": {
    "collapsed": false
   },
   "outputs": [
    {
     "name": "stdout",
     "output_type": "stream",
     "text": [
      "Toto\n",
      "John\n",
      "Je m'appelle TotoJohn DupontMartin et j'ai 14 ans\n",
      "coucou Toto\n"
     ]
    }
   ],
   "source": [
    "print(toto.prenom)\n",
    "print(tata.prenom)\n",
    "john = toto + tata\n",
    "print(john)\n",
    "toto.ma_methode()"
   ]
  },
  {
   "cell_type": "code",
   "execution_count": 33,
   "metadata": {
    "collapsed": false
   },
   "outputs": [],
   "source": [
    "class NotEnoughMoney(Exception):\n",
    "    pass\n",
    "\n",
    "class BankAccount:\n",
    "    def __init__(self, amount):\n",
    "        self.amount = amount\n",
    "    def deposit(self,amount):\n",
    "        self.amount+= amount\n",
    "    def withdraw(self, amount):\n",
    "        self.amount-= amount\n",
    "\n",
    "class CreditAccount(BankAccount):\n",
    "    def withdraw(self, amount):\n",
    "        if(self.amount-amount>-300):\n",
    "            super().withdraw(amount)\n",
    "        else:\n",
    "            raise NotEnoughMoney()\n",
    "\n",
    "class SavingAccount(BankAccount):\n",
    "    def withdraw(self, amount):\n",
    "        if(self.amount-amount>-300):\n",
    "            super().withdraw(amount)\n",
    "        else:\n",
    "            raise NotEnoughMoney()\n",
    "\n",
    "bank_account = CreditAccount(35)\n",
    "bank_account.withdraw(10)"
   ]
  },
  {
   "cell_type": "code",
   "execution_count": 29,
   "metadata": {
    "collapsed": false
   },
   "outputs": [
    {
     "name": "stdout",
     "output_type": "stream",
     "text": [
      "-15\n"
     ]
    }
   ],
   "source": [
    "print(bank_account.amount)"
   ]
  },
  {
   "cell_type": "code",
   "execution_count": 41,
   "metadata": {
    "collapsed": true
   },
   "outputs": [],
   "source": [
    "marie = Personne(\"Lefebvre\", \"Marie\", [CreditAccount(60), SavingAccount(24)])"
   ]
  },
  {
   "cell_type": "code",
   "execution_count": 46,
   "metadata": {
    "collapsed": false
   },
   "outputs": [
    {
     "name": "stdout",
     "output_type": "stream",
     "text": [
      "[<class '__main__.CreditAccount'>, <class '__main__.SavingAccount'>]\n",
      "[75]\n"
     ]
    }
   ],
   "source": [
    "print([type(i) for i in marie.comptes])\n",
    "print([i.amount for i in marie.comptes if type(i)==CreditAccount])"
   ]
  },
  {
   "cell_type": "code",
   "execution_count": null,
   "metadata": {
    "collapsed": true
   },
   "outputs": [],
   "source": [
    "print()"
   ]
  }
 ],
 "metadata": {
  "kernelspec": {
   "display_name": "Python 3",
   "language": "python",
   "name": "python3"
  },
  "language_info": {
   "codemirror_mode": {
    "name": "ipython",
    "version": 3
   },
   "file_extension": ".py",
   "mimetype": "text/x-python",
   "name": "python",
   "nbconvert_exporter": "python",
   "pygments_lexer": "ipython3",
   "version": "3.5.3"
  }
 },
 "nbformat": 4,
 "nbformat_minor": 0
}
