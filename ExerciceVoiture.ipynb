{
 "cells": [
  {
   "cell_type": "code",
   "execution_count": 1,
   "metadata": {
    "collapsed": true
   },
   "outputs": [],
   "source": [
    "from datetime import date\n",
    "\n",
    "class Voiture:\n",
    "    def __init__(self, vitesseMax):\n",
    "        self.vitesse_max= vitesseMax\n",
    "\n",
    "class Ferrari(Voiture):\n",
    "    pass\n",
    "\n",
    "class Mercedes(Voiture):\n",
    "    pass\n",
    "\n",
    "class BMW(Voiture):\n",
    "    pass\n",
    "\n",
    "class Personne:\n",
    "    \"\"\"Une personne a un nom prenom et possède des voitures\"\"\"\n",
    "    def __init__(self, prenom, nom, voiture, age):\n",
    "        self.nom= nom + \" \" + prenom\n",
    "        self.voiture= voiture\n",
    "        self.date_de_naissance= date.today().year - age\n",
    "\n",
    "class Course:\n",
    "    \"\"\"\n",
    "        Une course est une liste de couple personne / voiture\n",
    "        elle possède une methode inscription qui ajoute un couple personne voiture\n",
    "        elle possède une methode resultat qui renvoie la personne qui à la voiture la plus rapide\n",
    "    \"\"\"\n",
    "    def __init__(self, liste_participants):\n",
    "        self.liste_participants= []\n",
    "    def inscription(self, nouveau_participant):\n",
    "        self.liste_participants.append(nouveau_participant)\n",
    "    def resultat(self):\n",
    "        vitesse_max=0\n",
    "        gagnant = None\n",
    "        for participant in self.liste_participants:\n",
    "            if vitesse_max < participant.voiture.vitesse_max:\n",
    "                vitesse_max = participant.voiture.vitesse_max\n",
    "                gagant = participant\n",
    "        return gagnant"
   ]
  },
  {
   "cell_type": "code",
   "execution_count": 1,
   "metadata": {
    "collapsed": false
   },
   "outputs": [
    {
     "ename": "ImportError",
     "evalue": "No module named 'flask_sqlalchemy'",
     "output_type": "error",
     "traceback": [
      "\u001b[1;31m---------------------------------------------------------------------------\u001b[0m",
      "\u001b[1;31mImportError\u001b[0m                               Traceback (most recent call last)",
      "\u001b[1;32m<ipython-input-1-12db9b044510>\u001b[0m in \u001b[0;36m<module>\u001b[1;34m()\u001b[0m\n\u001b[0;32m      1\u001b[0m \u001b[1;32mfrom\u001b[0m \u001b[0mflask\u001b[0m \u001b[1;32mimport\u001b[0m \u001b[0mFlask\u001b[0m\u001b[1;33m\u001b[0m\u001b[0m\n\u001b[1;32m----> 2\u001b[1;33m \u001b[1;32mfrom\u001b[0m \u001b[0mflask_sqlalchemy\u001b[0m \u001b[1;32mimport\u001b[0m \u001b[0mSQLAlchemy\u001b[0m\u001b[1;33m\u001b[0m\u001b[0m\n\u001b[0m",
      "\u001b[1;31mImportError\u001b[0m: No module named 'flask_sqlalchemy'"
     ]
    }
   ],
   "source": [
    "from flask import Flask\n",
    "from flask_sqlalchemy import SQLAlchemy\n"
   ]
  },
  {
   "cell_type": "code",
   "execution_count": null,
   "metadata": {
    "collapsed": true
   },
   "outputs": [],
   "source": []
  }
 ],
 "metadata": {
  "kernelspec": {
   "display_name": "Python 3",
   "language": "python",
   "name": "python3"
  },
  "language_info": {
   "codemirror_mode": {
    "name": "ipython",
    "version": 3
   },
   "file_extension": ".py",
   "mimetype": "text/x-python",
   "name": "python",
   "nbconvert_exporter": "python",
   "pygments_lexer": "ipython3",
   "version": "3.5.3"
  }
 },
 "nbformat": 4,
 "nbformat_minor": 0
}
