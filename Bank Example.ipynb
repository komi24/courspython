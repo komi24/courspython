{
 "cells": [
  {
   "cell_type": "code",
   "execution_count": 1,
   "metadata": {
    "collapsed": false
   },
   "outputs": [],
   "source": [
    "import time\n",
    "\n",
    "\n",
    "class NotEnoughMoneyException(Exception):\n",
    "    pass\n",
    "\n",
    "class NotAnAccountException(Exception):\n",
    "    pass\n",
    "\n",
    "\n",
    "class BankAccountInterface(object):\n",
    "    ''' Interface définissant les méthodes nécessaires à tout compte bancaire'''\n",
    "    def deposit(self, value):\n",
    "        ''' Méthode pérmettant de déposer de l'argent sur un compte\n",
    "        require : value - valeur en float qui sera ajouté au solde du compte\n",
    "        '''\n",
    "        raise NotImplementedError\n",
    "    def withdraw(self, value):\n",
    "        ''' Méthode pérmettant de retirer une somme d'argent d'un compte\n",
    "        require : value - valeur en float qui sera soustraite au solde du compte\n",
    "        '''\n",
    "        raise NotImplementedError\n",
    "    def balance(self):\n",
    "        ''' Méthode pérmettant de connaitre le solde d'un compte\n",
    "        returns : solde du compte en float\n",
    "        '''\n",
    "        raise NotImplementedError\n",
    "\n",
    "    \n"
   ]
  },
  {
   "cell_type": "code",
   "execution_count": 9,
   "metadata": {
    "collapsed": false
   },
   "outputs": [
    {
     "ename": "NotImplementedError",
     "evalue": "",
     "output_type": "error",
     "traceback": [
      "\u001b[1;31m---------------------------------------------------------------------------\u001b[0m",
      "\u001b[1;31mNotImplementedError\u001b[0m                       Traceback (most recent call last)",
      "\u001b[1;32m<ipython-input-9-851abed821ff>\u001b[0m in \u001b[0;36m<module>\u001b[1;34m()\u001b[0m\n\u001b[0;32m      1\u001b[0m \u001b[0mmon_compte\u001b[0m \u001b[1;33m=\u001b[0m \u001b[0mBankAccount\u001b[0m\u001b[1;33m(\u001b[0m\u001b[1;33m)\u001b[0m\u001b[1;33m\u001b[0m\u001b[0m\n\u001b[1;32m----> 2\u001b[1;33m \u001b[0mmon_compte\u001b[0m\u001b[1;33m.\u001b[0m\u001b[0mbalance\u001b[0m\u001b[1;33m(\u001b[0m\u001b[1;33m)\u001b[0m\u001b[1;33m\u001b[0m\u001b[0m\n\u001b[0m",
      "\u001b[1;32m<ipython-input-7-9fe8a6ab6cbc>\u001b[0m in \u001b[0;36mbalance\u001b[1;34m(self)\u001b[0m\n\u001b[0;32m     16\u001b[0m         \u001b[0mreturns\u001b[0m \u001b[1;33m:\u001b[0m \u001b[0msolde\u001b[0m \u001b[0mdu\u001b[0m \u001b[0mcompte\u001b[0m \u001b[0men\u001b[0m \u001b[0mfloat\u001b[0m\u001b[1;33m\u001b[0m\u001b[0m\n\u001b[0;32m     17\u001b[0m         '''\n\u001b[1;32m---> 18\u001b[1;33m         \u001b[1;32mraise\u001b[0m \u001b[0mNotImplementedError\u001b[0m\u001b[1;33m\u001b[0m\u001b[0m\n\u001b[0m\u001b[0;32m     19\u001b[0m \u001b[1;33m\u001b[0m\u001b[0m\n\u001b[0;32m     20\u001b[0m \u001b[1;33m\u001b[0m\u001b[0m\n",
      "\u001b[1;31mNotImplementedError\u001b[0m: "
     ]
    }
   ],
   "source": [
    "mon_compte = BankAccount()\n",
    "mon_compte.balance()"
   ]
  },
  {
   "cell_type": "code",
   "execution_count": null,
   "metadata": {
    "collapsed": true
   },
   "outputs": [],
   "source": []
  },
  {
   "cell_type": "code",
   "execution_count": 12,
   "metadata": {
    "collapsed": true
   },
   "outputs": [],
   "source": [
    "class CreditAccount(BankAccountInterface):\n",
    "    def __init__(self, owner, balance=2000):\n",
    "        self._balance = balance\n",
    "        self._owner = owner\n",
    "        self._id = time.time()\n",
    "    def __repr__(self):\n",
    "        return '%s, %.2f' % (str(self._owner), self._balance)\n",
    "    def balance(self):\n",
    "        return self._balance\n",
    "    def show_balance(self):\n",
    "        print('Votre solde : %.2f' % self._balance)\n",
    "    def deposit(self, amount):\n",
    "        if(amount < 0):\n",
    "            raise ValueError(\"Error: Cannot add négative number\")\n",
    "            return\n",
    "        else:\n",
    "            print('Dépot de : %.2f' % (amount))\n",
    "            self._balance += amount\n",
    "            self.show_balance()\n",
    "    def withdraw(self, amount):\n",
    "        if(amount < 0):\n",
    "            raise ValueError(\"Error: Cannot withdraw negative number\")\n",
    "            return\n",
    "        elif(amount > self._balance + 300):\n",
    "            raise NotEnoughMoneyException(\"Error: Cannot have less than -300\")\n",
    "        else:\n",
    "            print('Retrait de : %.2f' % (amount))\n",
    "            self._balance -= amount\n",
    "            self.show_balance()\n",
    "\n",
    "class SavingAccount(BankAccountInterface):\n",
    "    def __init__(self, owner):\n",
    "        self._balance = 60000\n",
    "        self._owner = owner\n",
    "        self._id = time.time()\n",
    "        self._interest = 1.2\n",
    "    def __repr__(self):\n",
    "        return '%s, %.2f' % (str(self._owner), self._balance)\n",
    "    def balance(self):\n",
    "        return self._balance\n",
    "    def show_balance(self):\n",
    "        print('Votre solde : %.2f' % self._balance)\n",
    "    def deposit(self, amount):\n",
    "        if(amount < 0):\n",
    "            raise ValueError(\"Error: Cannot add negative number\")\n",
    "            return\n",
    "        else:\n",
    "            print('Dépot de : %.2f' % (amount))\n",
    "            self._balance += amount\n",
    "            self.show_balance()\n",
    "    def withdraw(self, amount):\n",
    "        if(amount < 0):\n",
    "            raise ValueError(\"Error: Cannot withdraw negative number\")\n",
    "            return\n",
    "        elif(amount > self._balance):\n",
    "            raise NotEnoughMoneyException(\"Error: Cannot have less than 0\")\n",
    "        else:\n",
    "            print('Retrait de : %.2f' % (amount))\n",
    "            self._balance -= amount\n",
    "            self.show_balance()"
   ]
  },
  {
   "cell_type": "code",
   "execution_count": 17,
   "metadata": {
    "collapsed": false
   },
   "outputs": [
    {
     "name": "stdout",
     "output_type": "stream",
     "text": [
      "Mickael, 2000.00\n",
      "Il y a 2000.00 € dans mon compte\n",
      "Dépot de : 200.00\n",
      "Votre solde : 2200.00\n",
      "Maintenant, il y a 2200.00 € dans mon compte\n",
      "Retrait de : 300.00\n",
      "Votre solde : 1900.00\n",
      "Maintenant, il y a 1900.00 € dans mon compte\n",
      "<class '__main__.CreditAccount'>\n",
      "False\n"
     ]
    }
   ],
   "source": [
    "ab=12\n",
    "mon_compte = CreditAccount('Mickael')\n",
    "print(mon_compte)\n",
    "print('Il y a %.2f € dans mon compte' % mon_compte.balance())\n",
    "mon_compte.deposit(200)\n",
    "print('Maintenant, il y a %.2f € dans mon compte' % mon_compte.balance())\n",
    "mon_compte.withdraw(300)\n",
    "print('Maintenant, il y a %.2f € dans mon compte' % mon_compte.balance())\n",
    "#mon_compte.withdraw(300)\n",
    "#mon_compte.withdraw(-300)\n",
    "#mon_compte.deposit(-300)\n",
    "print(type(mon_compte))\n",
    "print(SavingAccount == type(mon_compte))"
   ]
  },
  {
   "cell_type": "code",
   "execution_count": 7,
   "metadata": {
    "collapsed": true
   },
   "outputs": [],
   "source": [
    "class Person:\n",
    "    def __init__(self, first_name, last_name):\n",
    "        self.first_name = first_name\n",
    "        self.last_name = last_name\n",
    "    def sayHello(self):\n",
    "        print(\"Bonjour \"+self.first_name)\n",
    "\n",
    "class Advisor(Person):\n",
    "    def __init__(self, first_name, last_name, ssid, rank):\n",
    "        Person.__init__(self, first_name, last_name)\n",
    "        self.ssid = time.time()\n",
    "        self._rank = 0\n",
    "        self.clients = []\n",
    "    def create_account(self, client):\n",
    "        client.add_account(SavingAccount)\n",
    "        client.add_account(CreditAccount)\n",
    "        self.clients.append(client)\n",
    "    def transfer(self, client_src, client_dest, value):\n",
    "        client_src.accounts[0].withdraw(value)\n",
    "        client_dest.accounts[0].deposit(value)\n",
    "        \n",
    "\n",
    "class Client(Person):\n",
    "    def __init__(self, first_name, last_name, date_birth, date_join):\n",
    "        Person.__init__(self, first_name, last_name)\n",
    "        self._date_birth = date_birth\n",
    "        self._date_join = date_join\n",
    "        self.id = time.time()\n",
    "        self.accounts = []\n",
    "    def add_account(self, type_account):\n",
    "        if(type_account == SavingAccount):\n",
    "            self.accounts.append(SavingAccount(self))\n",
    "        elif(type_account == CreditAccount):\n",
    "            self.accounts.append(CreditAccount(self))\n",
    "        else:\n",
    "            raise NotAnAccountException('Error: add_account arguments must be an account')\n",
    "\n",
    "\n",
    "        \n",
    "    "
   ]
  },
  {
   "cell_type": "code",
   "execution_count": 73,
   "metadata": {
    "collapsed": false
   },
   "outputs": [
    {
     "name": "stdout",
     "output_type": "stream",
     "text": [
      "Retrait de : 300.00\n",
      "Votre solde : 59700.00\n",
      "Dépot de : 300.00\n",
      "Votre solde : 60300.00\n"
     ]
    }
   ],
   "source": [
    "john_doe = Client(\"John\", \"Doe\", time.mktime(time.strptime(\"30 Nov 1991\", \"%d %b %Y\")), time.time() )\n",
    "john_mom = Client(\"Muriel\", \"Doe\", time.mktime(time.strptime(\"30 Nov 1975\", \"%d %b %Y\")), time.time() )\n",
    "advisor = Advisor(\"Jane\", \"Doe\")\n",
    "advisor.create_account(john_doe)\n",
    "advisor.create_account(john_mom)\n",
    "advisor.transfer(john_mom, john_doe, 300)\n"
   ]
  },
  {
   "cell_type": "code",
   "execution_count": 70,
   "metadata": {
    "collapsed": false
   },
   "outputs": [
    {
     "name": "stdout",
     "output_type": "stream",
     "text": [
      "[<__main__.Client object at 0x000002BFAE6FCC88>, 0.00, <__main__.Client object at 0x000002BFAE6FCC88>, 0.00]\n"
     ]
    }
   ],
   "source": [
    "print(john_doe.accounts)"
   ]
  },
  {
   "cell_type": "code",
   "execution_count": 2,
   "metadata": {
    "collapsed": false
   },
   "outputs": [],
   "source": []
  },
  {
   "cell_type": "code",
   "execution_count": 10,
   "metadata": {
    "collapsed": true
   },
   "outputs": [],
   "source": [
    "class Voiture:\n",
    "    def __init__(self, nom, vitesse_max, couleur, proprio):\n",
    "        self.__nom=nom\n",
    "        self.__vitesse_max=vitesse_max\n",
    "        self.__couleur=couleur\n",
    "        self.__proprio=proprio\n",
    "        \n",
    "    def debrider(self,quantity):\n",
    "        self.__vitesse_max += quantity\n",
    "    def getNom(self):\n",
    "        return self.__nom\n",
    "    def setNom(self,name):\n",
    "        self.__nom = name\n",
    "    def getProprio(self):\n",
    "        return self.__proprio\n",
    "    def setProprio(self,name):\n",
    "        self.__proprio = name\n",
    "    "
   ]
  },
  {
   "cell_type": "code",
   "execution_count": 11,
   "metadata": {
    "collapsed": false
   },
   "outputs": [],
   "source": [
    "Clio=Voiture(\"Clio\",160,\"Bleu Nuit\",Person(\"Plaud\",\"Mathieu\"))"
   ]
  },
  {
   "cell_type": "code",
   "execution_count": 12,
   "metadata": {
    "collapsed": false
   },
   "outputs": [
    {
     "name": "stdout",
     "output_type": "stream",
     "text": [
      "Bonjour Plaud\n"
     ]
    }
   ],
   "source": [
    "Clio.getProprio().sayHello()"
   ]
  },
  {
   "cell_type": "code",
   "execution_count": 23,
   "metadata": {
    "collapsed": true
   },
   "outputs": [],
   "source": [
    "import numpy as np\n",
    "class Mercedes(Voiture):\n",
    "    def __init__(self, nom, vitesse_max, couleur, proprio, cylindre, position):\n",
    "        Voiture.__init__(self, nom, vitesse_max, couleur, proprio)\n",
    "        self.cylindre=cylindre\n",
    "        self.position=np.array(position)\n",
    "        self.acceleration=1\n",
    "    def deplacer(self,vect):\n",
    "        self.position+=self.acceleration*np.array(vect)\n",
    "    def setAcceleration(self,acc):\n",
    "        self.acceleration=acc\n",
    "        "
   ]
  },
  {
   "cell_type": "code",
   "execution_count": 24,
   "metadata": {
    "collapsed": true
   },
   "outputs": [],
   "source": [
    "Tuture=Mercedes(\"Merco\",1000,\"Noir\",Person(\"a\",\"b\"),50,[0,0])"
   ]
  },
  {
   "cell_type": "code",
   "execution_count": 25,
   "metadata": {
    "collapsed": false
   },
   "outputs": [
    {
     "name": "stdout",
     "output_type": "stream",
     "text": [
      "[0 0]\n",
      "[2 9]\n",
      "[2 9]\n",
      "[202 909]\n"
     ]
    }
   ],
   "source": [
    "print(Tuture.position)\n",
    "Tuture.deplacer([2,9])\n",
    "print(Tuture.position)\n",
    "Tuture.setAcceleration(100)\n",
    "print(Tuture.position)\n",
    "Tuture.deplacer([2,9])\n",
    "print(Tuture.position)\n"
   ]
  },
  {
   "cell_type": "code",
   "execution_count": 33,
   "metadata": {
    "collapsed": false
   },
   "outputs": [
    {
     "name": "stdout",
     "output_type": "stream",
     "text": [
      "['Nom', 'Prenom', 'Age', 'Taille']\n",
      "['Collinet', 'Jean', '46', '170']\n",
      "['De-Mijolla', 'Leonore', '33', '174']\n",
      "['Descamps', 'Bertrand', '36', '180']\n",
      "['Leduc', 'Doriane', '28', '178']\n",
      "['Leduc', 'Doriane', '28', '178']\n"
     ]
    }
   ],
   "source": [
    "import csv\n",
    "\n",
    "class Personne:\n",
    "    def __init__(self,nom, prenom, age, taille):\n",
    "        self.nom = nom\n",
    "        self.prenom = prenom\n",
    "        self.age = age\n",
    "        self.taille = taille\n",
    "    def __str__(self):\n",
    "        return \"Mon nom est %s %s\"%(self.prenom, self.nom)\n",
    "    def __repr__(self):\n",
    "        return \"Mon nom est %s %s\"%(self.prenom, self.nom)\n",
    "    def export(self, title):\n",
    "        with open(title, 'wb') as f:\n",
    "            csv_writer = csv.writer(f, delimiter=' ', lineterminator='\\n')\n",
    "            csv_writer.writerow([self.nom,self.prenom, self.age, self.taille])\n",
    "\n",
    "liste_personnes = []\n",
    "with open(\"personne.csv\") as f:\n",
    "    csv_reader = csv.reader(f, delimiter=' ')\n",
    "    for line in csv_reader:\n",
    "        liste_personnes.append(Personne(*line))\n",
    "        print(line)"
   ]
  },
  {
   "cell_type": "code",
   "execution_count": 93,
   "metadata": {
    "collapsed": false
   },
   "outputs": [],
   "source": [
    "liste_personnes[0]\n",
    "dorianne = Personne(\"Leduc\", \"Doriane\", 28, 178)"
   ]
  },
  {
   "cell_type": "code",
   "execution_count": 63,
   "metadata": {
    "collapsed": false
   },
   "outputs": [],
   "source": [
    "dorianne.export(\"personne.csv\")"
   ]
  },
  {
   "cell_type": "code",
   "execution_count": 74,
   "metadata": {
    "collapsed": true
   },
   "outputs": [],
   "source": [
    "import matplotlib.pyplot as plt"
   ]
  },
  {
   "cell_type": "code",
   "execution_count": 78,
   "metadata": {
    "collapsed": false
   },
   "outputs": [],
   "source": [
    "figure = plt.scatter([i.age for i in liste_personnes[1:]],\n",
    "                  [i.taille for i  in liste_personnes[1:]]\n",
    "                 )"
   ]
  },
  {
   "cell_type": "code",
   "execution_count": 79,
   "metadata": {
    "collapsed": false
   },
   "outputs": [
    {
     "name": "stderr",
     "output_type": "stream",
     "text": [
      "c:\\users\\bolne\\anaconda3\\lib\\site-packages\\matplotlib\\collections.py:590: FutureWarning: elementwise comparison failed; returning scalar instead, but in the future will perform elementwise comparison\n",
      "  if self._edgecolors == str('face'):\n"
     ]
    }
   ],
   "source": [
    "plt.show()"
   ]
  },
  {
   "cell_type": "code",
   "execution_count": 81,
   "metadata": {
    "collapsed": false
   },
   "outputs": [],
   "source": [
    "import tkinter"
   ]
  },
  {
   "cell_type": "code",
   "execution_count": 84,
   "metadata": {
    "collapsed": false
   },
   "outputs": [],
   "source": [
    "from tkinter import *\n",
    "fenetre = Tk()\n",
    "value = 1\n",
    "for i in range(3):\n",
    "    for j in range(3):\n",
    "        Button(fenetre, text=value, width=40).grid(column=i, row=j)\n",
    "        value += 1\n",
    "fenetre.mainloop()"
   ]
  },
  {
   "cell_type": "code",
   "execution_count": 91,
   "metadata": {
    "collapsed": false
   },
   "outputs": [],
   "source": [
    "class MaCalculette(Frame):\n",
    "    def __init__(self, master=None, cnf={}, **kw):\n",
    "        Frame.__init__(self, master, cnf, **kw)\n",
    "        value = 1\n",
    "        for i in range(3):\n",
    "            for j in range(3):\n",
    "                Button(master, text=value, width=40).grid(column=i, row=j)\n",
    "                value += 1\n",
    "                \n",
    "root = Tk()\n",
    "root.title('Calculatrice Ariane')\n",
    "win = Frame(root)\n",
    "Label(root, text='Hello').pack()\n",
    "user_frame = MaCalculette(win)\n",
    "win.pack()\n",
    "Button\n",
    "root.mainloop()"
   ]
  },
  {
   "cell_type": "code",
   "execution_count": 36,
   "metadata": {
    "collapsed": false
   },
   "outputs": [
    {
     "name": "stdout",
     "output_type": "stream",
     "text": [
      "Bolnet\n",
      "TOTO\n"
     ]
    }
   ],
   "source": [
    "from tkinter import *\n",
    "#from tkfileDialog import askopenfilename\n",
    "\n",
    "fenetre= Tk()\n",
    "\n",
    "liste_clients = []\n",
    "\n",
    "Label(fenetre, text=\"Nom\").pack(side=TOP, padx=5, pady=5)\n",
    "v = StringVar()\n",
    "e = Entry(fenetre, textvariable=v)\n",
    "e.pack(side=TOP, padx=5, pady=5)\n",
    "\n",
    "Label(fenetre, text=\"Prenom\").pack(side=TOP, padx=5, pady=5)\n",
    "v2 = StringVar()\n",
    "e2 = Entry(fenetre, textvariable=v2)\n",
    "e2.pack(side=TOP, padx=5, pady=5)\n",
    "\n",
    "def passFocus(event):\n",
    "    e2.focus_set()\n",
    "    \n",
    "e.bind(\"<Return>\", passFocus)\n",
    "    \n",
    "\n",
    "b= Button(fenetre, text=\"Ajouter\")\n",
    "b.pack(side=TOP, padx=5, pady=5)\n",
    "\n",
    "def printer(event):\n",
    "    cli = Personne(v.get(), v2.get(), 34,180)\n",
    "    liste_clients.append(cli)\n",
    "    Label(fenetre, text=str(cli)).pack(side=TOP, padx=5, pady=5)\n",
    "    print(v.get())\n",
    "\n",
    "b.bind(\"<Button-1>\", printer)\n",
    "e2.bind(\"<Return>\", printer)\n",
    "\n",
    "fenetre.mainloop()"
   ]
  },
  {
   "cell_type": "code",
   "execution_count": 37,
   "metadata": {
    "collapsed": false
   },
   "outputs": [
    {
     "name": "stdout",
     "output_type": "stream",
     "text": [
      "[Mon nom est Mickael Bolnet, Mon nom est TATA TOTO]\n"
     ]
    }
   ],
   "source": [
    "print(liste_clients)"
   ]
  },
  {
   "cell_type": "code",
   "execution_count": 22,
   "metadata": {
    "collapsed": false
   },
   "outputs": [
    {
     "name": "stdout",
     "output_type": "stream",
     "text": [
      "124\n",
      "TATA\n",
      "{'cle': 'TATA'}\n"
     ]
    }
   ],
   "source": [
    "\n",
    "ma_chaine = \"124\"\n",
    "mon_objet = Personne(\"TOTO\", \"titi\", 36, 180)\n",
    "mon_dico = {\"cle\": \"TOTO\"}\n",
    "\n",
    "def ma_function(param):\n",
    "    param = \"toto\"\n",
    "\n",
    "def modifier(param):\n",
    "    param.nom = \"TATA\"\n",
    "\n",
    "def modif(param):\n",
    "    param['cle']= \"TATA\"\n",
    "\n",
    "ma_function(ma_chaine)\n",
    "print(ma_chaine)\n",
    "\n",
    "modifier(mon_objet)\n",
    "print(mon_objet.nom)\n",
    "\n",
    "modif(mon_dico)\n",
    "print(mon_dico)"
   ]
  },
  {
   "cell_type": "code",
   "execution_count": 39,
   "metadata": {
    "collapsed": false
   },
   "outputs": [],
   "source": [
    "from flask import Flask"
   ]
  },
  {
   "cell_type": "code",
   "execution_count": 40,
   "metadata": {
    "collapsed": true
   },
   "outputs": [],
   "source": [
    "class BinaryTree:\n",
    "    def __init__(self, value, left_child=None, right_child=None):\n",
    "        self.value = value\n",
    "        self.left_child = left_child\n",
    "        self.right_child = right_child\n",
    "        self.width = 4\n",
    "    def __str__(self):\n",
    "        return \" %s %d %s \\n %d|\"%()"
   ]
  },
  {
   "cell_type": "code",
   "execution_count": 41,
   "metadata": {
    "collapsed": false
   },
   "outputs": [
    {
     "name": "stdout",
     "output_type": "stream",
     "text": [
      "helo \n",
      " ok\n"
     ]
    }
   ],
   "source": [
    "print(\"helo \\n ok\")"
   ]
  },
  {
   "cell_type": "code",
   "execution_count": null,
   "metadata": {
    "collapsed": true
   },
   "outputs": [],
   "source": []
  }
 ],
 "metadata": {
  "kernelspec": {
   "display_name": "Python 3",
   "language": "python",
   "name": "python3"
  },
  "language_info": {
   "codemirror_mode": {
    "name": "ipython",
    "version": 3
   },
   "file_extension": ".py",
   "mimetype": "text/x-python",
   "name": "python",
   "nbconvert_exporter": "python",
   "pygments_lexer": "ipython3",
   "version": "3.5.3"
  }
 },
 "nbformat": 4,
 "nbformat_minor": 0
}
