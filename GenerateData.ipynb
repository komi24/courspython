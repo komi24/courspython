{
 "cells": [
  {
   "cell_type": "code",
   "execution_count": 49,
   "metadata": {
    "collapsed": false
   },
   "outputs": [],
   "source": [
    "import numpy as np\n",
    "import matplotlib.pyplot as plt\n",
    "import csv\n",
    "\n",
    "class DataExp:\n",
    "    def __init__(self):\n",
    "        self.Ix = np.random.rand(247)\n",
    "        self.Iy = np.random.rand(247)\n",
    "        self.nC = np.random.choice([0.5,0.2,0.8], 247)\n",
    "        self.nFe = [0.3 if i==0.5 else 0.6 if i==0.2 else 0.1 for i in self.nC]\n",
    "        self.nAl = [0.2 if i==0.5 else 0.2 if i==0.2 else 0.1 for i in self.nC]\n",
    "        self.Trupt_1 = [2.3*x+3.8*y if c==0.5 else 1.1*x+1.8*y if c==0.2 else 4.3*x+2.8*y for x,y,c in zip(self.Ix,self.Iy,self.nC)]\n",
    "        self.Dx = 2.3 * self.Ix + 4 * self.Iy\n",
    "        self.Dy = 3 * self.Ix + 3 * self.Iy\n",
    "        self.Jx = 1.3 * self.Ix + 1.5 * self.Iy\n",
    "        self.Jy = 3.6 * self.Ix + 2.4 * self.Iy\n",
    "        self.Fx = 14 * self.Dx\n",
    "        self.Fy = 11 * self.Dy\n",
    "        self.Tloc = 12 * (self.Ix + self.Iy)\n",
    "    def export(self, title):\n",
    "        with open(title, 'w') as f:\n",
    "            csv_writer = csv.writer(f, delimiter=',', lineterminator='\\n')\n",
    "            [csv_writer.writerow([Ix, Iy, nC, nFe, nAl, Trupt_1, Dx, Dy, Jx, Jy, Fx, Fy, Tloc]) for (Ix, Iy, nC, nFe, nAl, Trupt_1, Dx, Dy, Jx, Jy, Fx, Fy, Tloc) in zip(self.Ix, self.Iy, self.nC, self.nFe, self.nAl, self.Trupt_1, self.Dx, self.Dy, self.Jx, self.Jy, self.Fx, self.Fy, self.Tloc)]"
   ]
  },
  {
   "cell_type": "code",
   "execution_count": 50,
   "metadata": {
    "collapsed": false
   },
   "outputs": [
    {
     "name": "stdout",
     "output_type": "stream",
     "text": [
      "[ 0.5  0.2  0.2  0.2  0.8  0.5  0.5]\n",
      "[0.3, 0.6, 0.6, 0.6, 0.1, 0.3, 0.3]\n",
      "[(0.5, 0.3, 0.3), (0.20000000000000001, 0.6, 0.6), (0.20000000000000001, 0.6, 0.6), (0.20000000000000001, 0.6, 0.6), (0.80000000000000004, 0.1, 0.1), (0.5, 0.3, 0.3), (0.5, 0.3, 0.3)]\n"
     ]
    }
   ],
   "source": [
    "import numpy as np\n",
    "np.random.rand(7)\n",
    "ch = np.random.choice([0.5, 0.2, 0.8],7)\n",
    "print(ch)\n",
    "test = [0.3 if i==0.5 else 0.6 if i==0.2 else 0.1 for i in ch]\n",
    "print(test)\n",
    "\n",
    "print([ i for i in zip(ch, test, test)])"
   ]
  },
  {
   "cell_type": "code",
   "execution_count": 51,
   "metadata": {
    "collapsed": false
   },
   "outputs": [],
   "source": [
    "data = DataExp()\n",
    "data.export(\"thirdExport.csv\")"
   ]
  },
  {
   "cell_type": "code",
   "execution_count": null,
   "metadata": {
    "collapsed": true
   },
   "outputs": [],
   "source": []
  }
 ],
 "metadata": {
  "kernelspec": {
   "display_name": "Python 3",
   "language": "python",
   "name": "python3"
  },
  "language_info": {
   "codemirror_mode": {
    "name": "ipython",
    "version": 3
   },
   "file_extension": ".py",
   "mimetype": "text/x-python",
   "name": "python",
   "nbconvert_exporter": "python",
   "pygments_lexer": "ipython3",
   "version": "3.5.3"
  }
 },
 "nbformat": 4,
 "nbformat_minor": 0
}
