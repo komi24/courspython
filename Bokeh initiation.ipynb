{
 "cells": [
  {
   "cell_type": "code",
   "execution_count": 1,
   "metadata": {
    "collapsed": false
   },
   "outputs": [],
   "source": [
    "from bokeh.plotting import figure, output_file, show\n",
    "\n",
    "# prepare some data\n",
    "x = [1, 2, 3, 4, 5]\n",
    "y = [6, 7, 2, 4, 5]\n",
    "\n",
    "# output to static HTML file\n",
    "output_file(\"lines.html\")\n",
    "\n",
    "# create a new plot with a title and axis labels\n",
    "p = figure(title=\"simple line example\", x_axis_label='x', y_axis_label='y')\n",
    "\n",
    "# add a line renderer with legend and line thickness\n",
    "p.line(x, y, legend=\"Temp.\", line_width=2)\n",
    "\n",
    "# show the results\n",
    "show(p)"
   ]
  },
  {
   "cell_type": "code",
   "execution_count": 4,
   "metadata": {
    "collapsed": true
   },
   "outputs": [],
   "source": [
    "from bokeh.plotting import figure, output_file, show\n",
    "\n",
    "# prepare some data\n",
    "x = [0.1, 0.5, 1.0, 1.5, 2.0, 2.5, 3.0]\n",
    "y0 = [i**2 for i in x]\n",
    "y1 = [10**i for i in x]\n",
    "y2 = [10**(i**2) for i in x]\n",
    "\n",
    "# output to static HTML file\n",
    "output_file(\"log_lines.html\")\n",
    "\n",
    "# create a new plot\n",
    "p = figure(\n",
    "   tools=\"hover,pan,box_zoom,reset,save\",\n",
    "   y_axis_type=\"log\", y_range=[0.001, 10**11], title=\"log axis example\",\n",
    "   x_axis_label='sections', y_axis_label='particles'\n",
    ")\n",
    "\n",
    "# add some renderers\n",
    "p.line(x, x, legend=\"y=x\")\n",
    "p.circle(x, x, legend=\"y=x\", fill_color=\"white\", size=8)\n",
    "p.line(x, y0, legend=\"y=x^2\", line_width=3)\n",
    "p.line(x, y1, legend=\"y=10^x\", line_color=\"red\")\n",
    "p.circle(x, y1, legend=\"y=10^x\", fill_color=\"red\", line_color=\"red\", size=6)\n",
    "p.line(x, y2, legend=\"y=10^x^2\", line_color=\"orange\", line_dash=\"4 4\")\n",
    "\n",
    "# show the results\n",
    "show(p)"
   ]
  },
  {
   "cell_type": "code",
   "execution_count": 8,
   "metadata": {
    "collapsed": true
   },
   "outputs": [],
   "source": [
    "import numpy as np\n",
    "\n",
    "from bokeh.plotting import figure, output_file, show\n",
    "\n",
    "# prepare some data\n",
    "N = 4000\n",
    "x = np.random.random(size=N) * 100\n",
    "y = np.random.random(size=N) * 100\n",
    "radii = np.random.random(size=N) * 1.5\n",
    "colors = [\n",
    "    \"#%02x%02x%02x\" % (int(r), int(g), 150) for r, g in zip(50+2*x, 30+2*y)\n",
    "]\n",
    "\n",
    "# output to static HTML file (with CDN resources)\n",
    "output_file(\"color_scatter.html\", title=\"color_scatter.py example\", mode=\"cdn\")\n",
    "\n",
    "TOOLS=\"crosshair,pan,wheel_zoom,box_zoom,reset,box_select,lasso_select\"\n",
    "\n",
    "# create a new plot with the tools above, and explicit ranges\n",
    "p = figure(tools=TOOLS, x_range=(0,100), y_range=(0,100))\n",
    "\n",
    "# add a circle renderer with vectorized colors and sizes\n",
    "p.circle(x,y, radius=radii, fill_color=colors, fill_alpha=0.6, line_color=None)\n",
    "\n",
    "# show the results\n",
    "show(p)"
   ]
  },
  {
   "cell_type": "markdown",
   "metadata": {},
   "source": [
    "Afficher un graphe"
   ]
  },
  {
   "cell_type": "code",
   "execution_count": 9,
   "metadata": {
    "collapsed": false
   },
   "outputs": [
    {
     "name": "stderr",
     "output_type": "stream",
     "text": [
      "ERROR:C:\\Users\\bolne\\Anaconda3\\lib\\site-packages\\bokeh\\core\\validation\\check.py:E-1001 (BAD_COLUMN_NAME): Glyph refers to nonexistent column name: fill_color [renderer: GlyphRenderer(id='3e3646b1-1d02-4d42-a248-6fdbc1527fc6', ...)]\n"
     ]
    }
   ],
   "source": [
    "import math\n",
    "\n",
    "from bokeh.io import show, output_file\n",
    "from bokeh.plotting import figure\n",
    "from bokeh.models import GraphRenderer, StaticLayoutProvider, Oval\n",
    "from bokeh.palettes import Spectral8\n",
    "\n",
    "N = 8\n",
    "node_indices = list(range(N))\n",
    "\n",
    "plot = figure(title=\"Graph Layout Demonstration\", x_range=(-1.1,1.1), y_range=(-1.1,1.1),\n",
    "              tools=\"\", toolbar_location=None)\n",
    "\n",
    "graph = GraphRenderer()\n",
    "\n",
    "graph.node_renderer.glyph = Oval(height=0.1, width=0.2, fill_color=\"fill_color\")\n",
    "graph.node_renderer.data_source.data = dict(\n",
    "    index=node_indices,\n",
    "    fill_color=Spectral8)\n",
    "\n",
    "graph.edge_renderer.data_source.data = dict(\n",
    "    start=[0]*N,\n",
    "    end=node_indices)\n",
    "\n",
    "### start of layout code\n",
    "circ = [i*2*math.pi/8 for i in node_indices]\n",
    "x = [math.cos(i) for i in circ]\n",
    "y = [math.sin(i) for i in circ]\n",
    "\n",
    "graph_layout = dict(zip(node_indices, zip(x, y)))\n",
    "graph.layout_provider = StaticLayoutProvider(graph_layout=graph_layout)\n",
    "\n",
    "plot.renderers.append(graph)\n",
    "\n",
    "output_file(\"graph.html\")\n",
    "show(plot)"
   ]
  },
  {
   "cell_type": "markdown",
   "metadata": {},
   "source": [
    "Barres catégories"
   ]
  },
  {
   "cell_type": "code",
   "execution_count": 10,
   "metadata": {
    "collapsed": false
   },
   "outputs": [
    {
     "name": "stderr",
     "output_type": "stream",
     "text": [
      "ERROR:C:\\Users\\bolne\\Anaconda3\\lib\\site-packages\\bokeh\\core\\validation\\check.py:E-1001 (BAD_COLUMN_NAME): Glyph refers to nonexistent column name: fill_color [renderer: GlyphRenderer(id='3e3646b1-1d02-4d42-a248-6fdbc1527fc6', ...)]\n"
     ]
    }
   ],
   "source": [
    "from bokeh.io import show, output_file\n",
    "from bokeh.plotting import figure\n",
    "\n",
    "output_file(\"bars.html\")\n",
    "\n",
    "fruits = ['Apples', 'Pears', 'Nectarines', 'Plums', 'Grapes', 'Strawberries']\n",
    "\n",
    "p = figure(x_range=fruits, plot_height=250, title=\"Fruit Counts\",\n",
    "           toolbar_location=None, tools=\"\")\n",
    "\n",
    "#print(dir(p))\n",
    "p.vbar(x=fruits, top=[5, 3, 4, 2, 4, 6], width=0.9)\n",
    "\n",
    "p.xgrid.grid_line_color = None\n",
    "p.y_range.start = 0\n",
    "\n",
    "show(p)"
   ]
  },
  {
   "cell_type": "markdown",
   "metadata": {},
   "source": [
    "Association de graph"
   ]
  },
  {
   "cell_type": "code",
   "execution_count": null,
   "metadata": {
    "collapsed": true
   },
   "outputs": [],
   "source": [
    "from bokeh.io import output_file, show\n",
    "from bokeh.layouts import gridplot\n",
    "from bokeh.models import ColumnDataSource\n",
    "from bokeh.plotting import figure\n",
    "\n",
    "output_file(\"brushing.html\")\n",
    "\n",
    "x = list(range(-20, 21))\n",
    "y0 = [abs(xx) for xx in x]\n",
    "y1 = [xx**2 for xx in x]\n",
    "\n",
    "# create a column data source for the plots to share\n",
    "source = ColumnDataSource(data=dict(x=x, y0=y0, y1=y1))\n",
    "\n",
    "TOOLS = \"box_select,lasso_select,help\"\n",
    "\n",
    "# create a new plot and add a renderer\n",
    "left = figure(tools=TOOLS, plot_width=300, plot_height=300, title=None)\n",
    "left.circle('x', 'y0', source=source)\n",
    "\n",
    "# create another new plot and add a renderer\n",
    "right = figure(tools=TOOLS, plot_width=300, plot_height=300, title=None)\n",
    "right.circle('x', 'y1', source=source)\n",
    "\n",
    "p = gridplot([[left, right]])\n",
    "\n",
    "show(p)"
   ]
  },
  {
   "cell_type": "markdown",
   "metadata": {},
   "source": [
    "Muting or Hiding"
   ]
  },
  {
   "cell_type": "code",
   "execution_count": 1,
   "metadata": {
    "collapsed": false
   },
   "outputs": [],
   "source": [
    "import pandas as pd\n",
    "\n",
    "from bokeh.palettes import Spectral4\n",
    "from bokeh.plotting import figure, output_file, show\n",
    "from bokeh.sampledata.stocks import AAPL, IBM, MSFT, GOOG\n",
    "\n",
    "p = figure(plot_width=800, plot_height=250, x_axis_type=\"datetime\")\n",
    "p.title.text = 'Click on legend entries to hide the corresponding lines'\n",
    "\n",
    "for data, name, color in zip([AAPL, IBM, MSFT, GOOG], [\"AAPL\", \"IBM\", \"MSFT\", \"GOOG\"], Spectral4):\n",
    "    df = pd.DataFrame(data)\n",
    "    df['date'] = pd.to_datetime(df['date'])\n",
    "    p.line(df['date'], df['close'], line_width=2, color=color, alpha=0.8, legend=name)\n",
    "\n",
    "p.legend.location = \"top_left\"\n",
    "p.legend.click_policy=\"hide\"\n",
    "\n",
    "output_file(\"interactive_legend.html\", title=\"interactive_legend.py example\")\n",
    "\n",
    "show(p)"
   ]
  },
  {
   "cell_type": "markdown",
   "metadata": {
    "collapsed": true
   },
   "source": [
    "Interaction avec du JS"
   ]
  },
  {
   "cell_type": "code",
   "execution_count": 5,
   "metadata": {
    "collapsed": false
   },
   "outputs": [],
   "source": [
    "from bokeh.layouts import column\n",
    "from bokeh.models import CustomJS, ColumnDataSource, Slider\n",
    "from bokeh.plotting import Figure, output_file, show\n",
    "\n",
    "output_file(\"js_on_change.html\")\n",
    "\n",
    "x = [x*0.005 for x in range(0, 200)]\n",
    "y = x\n",
    "\n",
    "source = ColumnDataSource(data=dict(x=x, y=y))\n",
    "\n",
    "plot = Figure(plot_width=400, plot_height=400)\n",
    "plot.line('x', 'y', source=source, line_width=3, line_alpha=0.6)\n",
    "\n",
    "callback = CustomJS(args=dict(source=source), code=\"\"\"\n",
    "    var data = source.data;\n",
    "    var f = cb_obj.value\n",
    "    x = data['x']\n",
    "    y = data['y']\n",
    "    for (i = 0; i < x.length; i++) {\n",
    "        y[i] = Math.pow(x[i], f)\n",
    "    }\n",
    "    source.change.emit();\n",
    "\"\"\")\n",
    "\n",
    "slider = Slider(start=0.1, end=4, value=1, step=.1, title=\"power\")\n",
    "#slider.js_on_change('value', callback)\n",
    "slider.callback = callback\n",
    "\n",
    "layout = column(slider, plot)\n",
    "\n",
    "show(layout)"
   ]
  },
  {
   "cell_type": "code",
   "execution_count": null,
   "metadata": {
    "collapsed": true
   },
   "outputs": [],
   "source": []
  }
 ],
 "metadata": {
  "kernelspec": {
   "display_name": "Python 3",
   "language": "python",
   "name": "python3"
  },
  "language_info": {
   "codemirror_mode": {
    "name": "ipython",
    "version": 3
   },
   "file_extension": ".py",
   "mimetype": "text/x-python",
   "name": "python",
   "nbconvert_exporter": "python",
   "pygments_lexer": "ipython3",
   "version": "3.5.3"
  }
 },
 "nbformat": 4,
 "nbformat_minor": 0
}
