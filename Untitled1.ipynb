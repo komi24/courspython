{
 "cells": [
  {
   "cell_type": "code",
   "execution_count": 6,
   "metadata": {
    "collapsed": false
   },
   "outputs": [
    {
     "name": "stdout",
     "output_type": "stream",
     "text": [
      "hello\n"
     ]
    }
   ],
   "source": [
    "from tkinter import *\n",
    "\n",
    "fenetre = Tk()\n",
    "\n",
    "label = Label(fenetre, width=60, height=80, text=\"Hello World\") \n",
    "label.pack() \n",
    "\n",
    "fenetre.mainloop() \n",
    "print(\"hello\")"
   ]
  },
  {
   "cell_type": "code",
   "execution_count": 21,
   "metadata": {
    "collapsed": false
   },
   "outputs": [
    {
     "name": "stdout",
     "output_type": "stream",
     "text": [
      "gdfgd\n",
      "gdfgd\n"
     ]
    }
   ],
   "source": [
    "from tkinter import *\n",
    "\n",
    "fenetre = Tk()\n",
    "\n",
    "Canvas(fenetre, width=250, height=50, bg='ivory').pack(side=LEFT, padx=5, pady=5) \n",
    "v = StringVar()\n",
    "e = Entry(fenetre, textvariable=v)\n",
    "e.pack(side=TOP, padx=5, pady=5)\n",
    "b= Button(fenetre, text ='Bouton 1')\n",
    "b.pack(side=TOP, padx=5, pady=5) \n",
    "\n",
    "def printer(event):\n",
    "    print(v.get())\n",
    "\n",
    "b.bind(\"<Button-1>\", printer)\n",
    "\n",
    "fenetre.mainloop() \n"
   ]
  },
  {
   "cell_type": "code",
   "execution_count": 17,
   "metadata": {
    "collapsed": false
   },
   "outputs": [],
   "source": [
    "fenetre = Tk()\n",
    "\n",
    "for ligne in range(5):\n",
    "    for colonne in range(5):\n",
    "        Button(fenetre, text='L%s-C%s'%(ligne, colonne), borderwidth=1).grid(row=ligne, column=colonne) \n",
    "\n",
    "fenetre.mainloop()"
   ]
  },
  {
   "cell_type": "code",
   "execution_count": 27,
   "metadata": {
    "collapsed": false
   },
   "outputs": [
    {
     "name": "stdout",
     "output_type": "stream",
     "text": [
      "abcd\n"
     ]
    }
   ],
   "source": [
    "a = \"abcd\"\n",
    "\n",
    "def printa():\n",
    "    print(a)\n",
    "    a= 43\n",
    "\n",
    "printa()"
   ]
  },
  {
   "cell_type": "code",
   "execution_count": null,
   "metadata": {
    "collapsed": true
   },
   "outputs": [],
   "source": []
  }
 ],
 "metadata": {
  "kernelspec": {
   "display_name": "Python 3",
   "language": "python",
   "name": "python3"
  },
  "language_info": {
   "codemirror_mode": {
    "name": "ipython",
    "version": 3
   },
   "file_extension": ".py",
   "mimetype": "text/x-python",
   "name": "python",
   "nbconvert_exporter": "python",
   "pygments_lexer": "ipython3",
   "version": "3.5.3"
  }
 },
 "nbformat": 4,
 "nbformat_minor": 0
}
