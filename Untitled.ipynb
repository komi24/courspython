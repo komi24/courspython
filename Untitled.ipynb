{
 "cells": [
  {
   "cell_type": "code",
   "execution_count": 38,
   "metadata": {
    "collapsed": false
   },
   "outputs": [
    {
     "name": "stdout",
     "output_type": "stream",
     "text": [
      "4\n"
     ]
    }
   ],
   "source": [
    "from tkinter import *\n",
    "\n",
    "    \n",
    "class MesBoutons(Frame):\n",
    "    def __init__(self, master=None, cnf={}, **kw):\n",
    "        Frame.__init__(self, master, cnf, **kw)\n",
    "        self.current_value = StringVar()\n",
    "        self.current_value.set('0')\n",
    "        value = 1\n",
    "        for i in range(3):\n",
    "            for j in range(3):\n",
    "                tmp = Button(self, text=value, width=40)\n",
    "                tmp.grid(column=i, row=j)\n",
    "                tmp.bind(\"<Button>\",self.button_callback)\n",
    "                value +=1\n",
    "    def button_callback(self, event):\n",
    "        print(event.widget['text'])\n",
    "    def set_current_value(self, amount):\n",
    "        self.current_value.set(str(amount))\n",
    "    def get_current_value(self):\n",
    "        return self.current_value.get()\n",
    "\n",
    "root = Tk()\n",
    "root.title(\"Calculatrice Ariane\")\n",
    "mes_boutons = MesBoutons(root)\n",
    "Label(root, text=mes_boutons.get_current_value()).pack()\n",
    "mes_boutons.pack()\n",
    "root.mainloop()"
   ]
  },
  {
   "cell_type": "code",
   "execution_count": 43,
   "metadata": {
    "collapsed": false
   },
   "outputs": [
    {
     "name": "stdout",
     "output_type": "stream",
     "text": [
      "Index(['pop', 'state', 'year'], dtype='object')\n"
     ]
    }
   ],
   "source": [
    "import pandas as pd\n",
    "import numpy as np\n",
    "data = {\"state\": [\"Ohio\", \"Ohio\", \"Ohio\",\n",
    "\"Nevada\", \"Nevada\"],\n",
    "\"year\": [2000, 2001, 2002, 2001, 2002],\n",
    "\"pop\": [1.5, 1.7, 3.6, 2.4, 2.9]}\n",
    "frame = pd.DataFrame(data)\n",
    "# ordre des colonnes\n",
    "pd.DataFrame(data, columns=[\"year\", \"state\", \"pop\"])\n",
    "# index des lignes et valeurs manquantes (NaN)\n",
    "frame2=pd.DataFrame(data, columns=[\"year\", \"state\",\n",
    "\"pop\", \"debt\"],\n",
    "index=[\"one\", \"two\", \"three\", \"four\", \"five\"])\n",
    "# liste des colonnes\n",
    "print(frame.columns)"
   ]
  },
  {
   "cell_type": "code",
   "execution_count": 48,
   "metadata": {
    "collapsed": false
   },
   "outputs": [
    {
     "name": "stdout",
     "output_type": "stream",
     "text": [
      "               b         d         e\n",
      "Utah   -2.214863 -0.032028 -0.053601\n",
      "Ohio   -0.131145 -0.634712  0.424744\n",
      "Texas   0.483947 -0.392897 -0.953727\n",
      "Oregon  0.318040 -0.775789 -1.076522\n",
      "Utah     -0.032028\n",
      "Ohio      0.424744\n",
      "Texas     0.483947\n",
      "Oregon    0.318040\n",
      "dtype: float64\n"
     ]
    }
   ],
   "source": [
    "# la table de données\n",
    "frame = pd.DataFrame(np.random.randn(4,3),\n",
    "columns=list(\"bde\"),\n",
    "index=[\"Utah\", \"Ohio\", \"Texas\", \"Oregon\"])\n",
    "# une fonction\n",
    "print(frame)\n",
    "f = lambda x: x.max()\n",
    "frame2 = frame.apply(f, axis=1)\n",
    "print(frame2)"
   ]
  },
  {
   "cell_type": "code",
   "execution_count": 50,
   "metadata": {
    "collapsed": false
   },
   "outputs": [
    {
     "name": "stdout",
     "output_type": "stream",
     "text": [
      "[4 0 2 1 3]\n",
      "    0   1   2   3\n",
      "0   0   1   2   3\n",
      "1   4   5   6   7\n",
      "2   8   9  10  11\n",
      "3  12  13  14  15\n",
      "4  16  17  18  19\n",
      "    0   1   2   3\n",
      "4  16  17  18  19\n",
      "0   0   1   2   3\n",
      "2   8   9  10  11\n",
      "1   4   5   6   7\n"
     ]
    }
   ],
   "source": [
    "dfs = pd.DataFrame(np.arange(5 * 4).reshape(5, 4))\n",
    "sampler = np.random.permutation(5)\n",
    "print(sampler)\n",
    "print(dfs)\n",
    "print(dfs.take(sampler[:-1]))"
   ]
  },
  {
   "cell_type": "code",
   "execution_count": 61,
   "metadata": {
    "collapsed": false
   },
   "outputs": [
    {
     "name": "stdout",
     "output_type": "stream",
     "text": [
      "   data1 key\n",
      "0      0   b\n",
      "1      1   b\n",
      "2      2   a\n",
      "3      3   c\n",
      "4      4   a\n",
      "5      5   a\n",
      "6      6   b\n",
      "   data2 key\n",
      "0      0   a\n",
      "1      1   b\n",
      "2      2   d\n",
      "   data1 key  data2\n",
      "0      0   b      1\n",
      "1      1   b      1\n",
      "2      6   b      1\n",
      "3      2   a      0\n",
      "4      4   a      0\n",
      "5      5   a      0\n",
      "6    NaN   d      2\n"
     ]
    }
   ],
   "source": [
    "df1 = pd.DataFrame({\"key\": [\"b\", \"b\", \"a\", \"c\",\"a\",\"a\", \"b\"],\"data1\": range(7)})\n",
    "df2 = pd.DataFrame({\"key\": [\"a\", \"b\", \"d\"],\n",
    "\"data2\": range(3)})\n",
    "print(df1)\n",
    "print(df2)\n",
    "print(pd.merge(df1,df2,on=\"key\", how=\"right\"))\n",
    "#print(pd.merge(df1,df2,on=\"key\", how=\"right\"))\n"
   ]
  },
  {
   "cell_type": "code",
   "execution_count": 163,
   "metadata": {
    "collapsed": false
   },
   "outputs": [
    {
     "name": "stdout",
     "output_type": "stream",
     "text": [
      "[[ 0.22037087 -0.00416555  0.12487683 -0.02353116]\n",
      " [-0.00416555  0.06599182  0.00592732 -0.015534  ]\n",
      " [ 0.12487683  0.00592732  0.24963421 -0.01823218]\n",
      " [-0.02353116 -0.015534   -0.01823218  0.03892021]]\n",
      "1    1\n",
      "Name: Survived, dtype: int64\n",
      "[1]\n",
      "3    1\n",
      "Name: Survived, dtype: int64\n",
      "[1]\n",
      "6    0\n",
      "Name: Survived, dtype: int64\n",
      "[0]\n",
      "10    1\n",
      "Name: Survived, dtype: int64\n",
      "[1]\n",
      "11    1\n",
      "Name: Survived, dtype: int64\n",
      "[1]\n",
      "21    1\n",
      "Name: Survived, dtype: int64\n",
      "[1]\n",
      "23    1\n",
      "Name: Survived, dtype: int64\n",
      "[1]\n",
      "27    0\n",
      "Name: Survived, dtype: int64\n",
      "[0]\n",
      "52    1\n",
      "Name: Survived, dtype: int64\n",
      "[1]\n",
      "54    0\n",
      "Name: Survived, dtype: int64\n",
      "[0]\n",
      "62    0\n",
      "Name: Survived, dtype: int64\n",
      "[0]\n",
      "66    1\n",
      "Name: Survived, dtype: int64\n",
      "[1]\n",
      "75    0\n",
      "Name: Survived, dtype: int64\n",
      "[1]\n",
      "88    1\n",
      "Name: Survived, dtype: int64\n",
      "[1]\n",
      "92    0\n",
      "Name: Survived, dtype: int64\n",
      "[0]\n",
      "96    0\n",
      "Name: Survived, dtype: int64\n",
      "[0]\n",
      "97    1\n",
      "Name: Survived, dtype: int64\n",
      "[1]\n",
      "102    0\n",
      "Name: Survived, dtype: int64\n",
      "[1]\n",
      "110    0\n",
      "Name: Survived, dtype: int64\n",
      "[0]\n",
      "118    0\n",
      "Name: Survived, dtype: int64\n",
      "[1]"
     ]
    },
    {
     "name": "stderr",
     "output_type": "stream",
     "text": [
      "c:\\users\\bolne\\anaconda3\\lib\\site-packages\\sklearn\\svm\\base.py:472: DataConversionWarning: A column-vector y was passed when a 1d array was expected. Please change the shape of y to (n_samples, ), for example using ravel().\n",
      "  y_ = column_or_1d(y, warn=True)\n",
      "c:\\users\\bolne\\anaconda3\\lib\\site-packages\\matplotlib\\collections.py:590: FutureWarning: elementwise comparison failed; returning scalar instead, but in the future will perform elementwise comparison\n",
      "  if self._edgecolors == str('face'):\n"
     ]
    },
    {
     "name": "stdout",
     "output_type": "stream",
     "text": [
      "\n"
     ]
    },
    {
     "data": {
      "image/png": "[encoded data removed]",
      "text/plain": [
       "<matplotlib.figure.Figure at 0x1f239d44898>"
      ]
     },
     "metadata": {},
     "output_type": "display_data"
    }
   ],
   "source": [
    "import pandas as pd\n",
    "import numpy as np\n",
    "import matplotlib.pyplot as plt\n",
    "\n",
    "df = pd.read_csv(\"titanic-train.csv\")#, usecols=[\"Name\", \"Sex\", \"Survived\", \"Pclass\", \"Age\"])\n",
    "#print(df.columns)\n",
    "#print(df[~np.isnan(df[\"Age\"])])\n",
    "\n",
    "my_map = {\"female\": 1, \"male\": 0}\n",
    "df['Sex'] = df['Sex'].map(my_map)\n",
    "for col in df.columns:\n",
    "    #print(col)\n",
    "    df = df[~pd.isnull(df[col])]\n",
    "\n",
    "my_exp = df[[\"Survived\",\"Pclass\", \"Sex\", \"Age\"]]\n",
    "my_exp = (my_exp - my_exp.min()) / (my_exp.max() - my_exp.min())\n",
    "#print(set(df[\"Embarked\"]))\n",
    "from sklearn.decomposition import PCA\n",
    "pca = PCA(4)\n",
    "pca.fit(my_exp)\n",
    "print(pca.get_covariance())\n",
    "new_var= pca.transform(my_exp)\n",
    "#print(len(new_var))\n",
    "#print([i for i in zip(new_var[0],new_var[1])])\n",
    "plt.scatter(new_var[:,0],new_var[:,1])\n",
    "\n",
    "from sklearn.svm import SVC\n",
    "support_vector_classifier= SVC()\n",
    "#print(df[[\"Survived\"]].as_matrix())\n",
    "#print(df[[\"Pclass\", \"Sex\", \"Age\"]].as_matrix())\n",
    "support_vector_classifier.fit(df[[\"Pclass\", \"Sex\", \"Age\"]], df[[\"Survived\"]])\n",
    "for idx in range(20):\n",
    "    print(df.iloc[[idx]][\"Survived\"])\n",
    "    print(support_vector_classifier.predict(df[[\"Pclass\", \"Sex\", \"Age\"]].iloc[[idx]]))"
   ]
  },
  {
   "cell_type": "code",
   "execution_count": 111,
   "metadata": {
    "collapsed": false
   },
   "outputs": [
    {
     "data": {
      "text/plain": [
       "<matplotlib.axes._subplots.AxesSubplot at 0x1f23613d0f0>"
      ]
     },
     "execution_count": 111,
     "metadata": {},
     "output_type": "execute_result"
    },
    {
     "data": {
      "text/plain": [
       "<matplotlib.figure.Figure at 0x1f2361894a8>"
      ]
     },
     "metadata": {},
     "output_type": "display_data"
    },
    {
     "name": "stderr",
     "output_type": "stream",
     "text": [
      "c:\\users\\bolne\\anaconda3\\lib\\site-packages\\matplotlib\\collections.py:590: FutureWarning: elementwise comparison failed; returning scalar instead, but in the future will perform elementwise comparison\n",
      "  if self._edgecolors == str('face'):\n"
     ]
    },
    {
     "data": {
      "image/png": "[encoded data removed]",
      "text/plain": [
       "<matplotlib.figure.Figure at 0x1f23617d358>"
      ]
     },
     "metadata": {},
     "output_type": "display_data"
    }
   ],
   "source": [
    "import matplotlib.pyplot as plt\n",
    "import numpy as np\n",
    "import sklearn\n",
    "%matplotlib inline\n",
    "\n",
    "plt.figure();\n",
    "df.plot.scatter(\"Survived\", \"Age\")\n",
    "# Faire un pca.transform pour récupérer les points dans les nouvelles coordonnées\n",
    "# Afficher avec un plot les deux premières coordonnées\n",
    "# séparer les points qui on survécue et ceux qui sont morts\n",
    "# récupérer la moyenne et l'écart-type des Ages et Pclass en fonction de s'ils sont mort ou vivant\n",
    "# Faite un scatter qui affiche des points rouges si la personne à survécue vert sinon\n",
    "\n",
    "\n",
    "ma_liste= [\"abc\", \"a\", \"bcd\", \"abc\"]\n",
    "resultat = [\"abc\", \"abc\"]\n",
    "\n",
    "# Faire une fonction où on fournit en paramètre le terme qu'on essaie de reconnaitre (ici \"abc\")\n",
    "# Faire une fonction filtre qu'on passe en paramètre\n",
    "# Faire un filtre qui reconnait \"a.*b\""
   ]
  },
  {
   "cell_type": "code",
   "execution_count": null,
   "metadata": {
    "collapsed": true
   },
   "outputs": [],
   "source": []
  }
 ],
 "metadata": {
  "kernelspec": {
   "display_name": "Python 3",
   "language": "python",
   "name": "python3"
  },
  "language_info": {
   "codemirror_mode": {
    "name": "ipython",
    "version": 3
   },
   "file_extension": ".py",
   "mimetype": "text/x-python",
   "name": "python",
   "nbconvert_exporter": "python",
   "pygments_lexer": "ipython3",
   "version": "3.5.3"
  }
 },
 "nbformat": 4,
 "nbformat_minor": 0
}
