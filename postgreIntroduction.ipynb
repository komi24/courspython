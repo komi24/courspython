{
 "cells": [
  {
   "cell_type": "code",
   "execution_count": 16,
   "metadata": {
    "collapsed": false
   },
   "outputs": [
    {
     "data": {
      "text/plain": [
       "[(1, 'mickael'), (2, 'micki'), (4, 'macki'), (5, 'macki')]"
      ]
     },
     "execution_count": 16,
     "metadata": {},
     "output_type": "execute_result"
    }
   ],
   "source": [
    "import psycopg2\n",
    "\n",
    "params = {\n",
    "  'database': 'courspython',\n",
    "  'user': 'mickael',\n",
    "  'password': 'cours-python',\n",
    "  'host': 'ec2-54-76-150-227.eu-west-1.compute.amazonaws.com',\n",
    "  'port': 5432\n",
    "}\n",
    "\n",
    "conn = psycopg2.connect(**params)\n",
    "cur = conn.cursor()\n",
    "cur.execute(\"SELECT * FROM test;\")\n",
    "cur.fetchall()"
   ]
  },
  {
   "cell_type": "code",
   "execution_count": null,
   "metadata": {
    "collapsed": true
   },
   "outputs": [],
   "source": []
  }
 ],
 "metadata": {
  "kernelspec": {
   "display_name": "Python 3",
   "language": "python",
   "name": "python3"
  },
  "language_info": {
   "codemirror_mode": {
    "name": "ipython",
    "version": 3
   },
   "file_extension": ".py",
   "mimetype": "text/x-python",
   "name": "python",
   "nbconvert_exporter": "python",
   "pygments_lexer": "ipython3",
   "version": "3.5.3"
  }
 },
 "nbformat": 4,
 "nbformat_minor": 0
}
