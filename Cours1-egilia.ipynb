{
 "cells": [
  {
   "cell_type": "code",
   "execution_count": 6,
   "metadata": {
    "collapsed": false
   },
   "outputs": [
    {
     "name": "stdout",
     "output_type": "stream",
     "text": [
      "Hello World !\n",
      "2\n"
     ]
    }
   ],
   "source": [
    "print(\"Hello World !\")\n",
    "print(a)"
   ]
  },
  {
   "cell_type": "markdown",
   "metadata": {},
   "source": [
    "# Affichage\n",
    "print(\"bonjour\") affiche bonjour"
   ]
  },
  {
   "cell_type": "code",
   "execution_count": 3,
   "metadata": {
    "collapsed": true
   },
   "outputs": [],
   "source": [
    "#print(\"Bonjour\")"
   ]
  },
  {
   "cell_type": "code",
   "execution_count": 4,
   "metadata": {
    "collapsed": true
   },
   "outputs": [],
   "source": [
    "a= 2"
   ]
  },
  {
   "cell_type": "code",
   "execution_count": 5,
   "metadata": {
    "collapsed": false
   },
   "outputs": [
    {
     "name": "stdout",
     "output_type": "stream",
     "text": [
      "2\n"
     ]
    }
   ],
   "source": [
    "print(a)"
   ]
  },
  {
   "cell_type": "code",
   "execution_count": 9,
   "metadata": {
    "collapsed": false
   },
   "outputs": [
    {
     "name": "stdout",
     "output_type": "stream",
     "text": [
      "<class 'str'>\n"
     ]
    }
   ],
   "source": [
    "a=\"abc\"\n",
    "print(type(a))"
   ]
  },
  {
   "cell_type": "code",
   "execution_count": 33,
   "metadata": {
    "collapsed": false
   },
   "outputs": [
    {
     "name": "stdout",
     "output_type": "stream",
     "text": [
      "b\n",
      "[0, 2, 5]\n",
      "['a', 'b', 'c']\n",
      "1\n",
      "[0, 2, 5]\n",
      "6\n"
     ]
    }
   ],
   "source": [
    "a=1.0j\n",
    "b=\"abc\"\n",
    "c=True\n",
    "z=None\n",
    "d=str(a)\n",
    "#print(type(a))\n",
    "#print(a**2)\n",
    "#print(type(d))\n",
    "\n",
    "#import numpy as np\n",
    "print(b[1])\n",
    "e=[0,2,5]\n",
    "f=list(b)\n",
    "print(e)\n",
    "print(f)\n",
    "\n",
    "g=(0,1)\n",
    "print(g[1])\n",
    "#b[1]=\"z\"\n",
    "print(e)\n",
    "h=dict()\n",
    "k={'macle':4, 'madeuxiemecle': 6}\n",
    "print(k['madeuxiemecle'])"
   ]
  },
  {
   "cell_type": "code",
   "execution_count": 34,
   "metadata": {
    "collapsed": false
   },
   "outputs": [
    {
     "name": "stdout",
     "output_type": "stream",
     "text": [
      "['0abc', 2, None, True, 3.0]\n"
     ]
    }
   ],
   "source": [
    "e=['0abc',2,None, True, 3.0]\n",
    "print(e)"
   ]
  },
  {
   "cell_type": "code",
   "execution_count": 35,
   "metadata": {
    "collapsed": false
   },
   "outputs": [
    {
     "name": "stdout",
     "output_type": "stream",
     "text": [
      "['0abc', [2, 15], None, True, 3.0]\n"
     ]
    }
   ],
   "source": [
    "e=['0abc',[2, 15],None, True, 3.0]\n",
    "print(e)"
   ]
  },
  {
   "cell_type": "code",
   "execution_count": 37,
   "metadata": {
    "collapsed": false
   },
   "outputs": [
    {
     "name": "stdout",
     "output_type": "stream",
     "text": [
      "15\n"
     ]
    }
   ],
   "source": [
    "print(e[1][1])"
   ]
  },
  {
   "cell_type": "code",
   "execution_count": 42,
   "metadata": {
    "collapsed": false
   },
   "outputs": [
    {
     "name": "stdout",
     "output_type": "stream",
     "text": [
      "['0abc', [2, 15], None, {False: [1, 4, 'azc'], 1: 'abc', 'cle': False}, 3.0]\n"
     ]
    }
   ],
   "source": [
    "e[3]={1:'okok', True:'abc', 'cle': False, False: [1,4,'azc']}\n",
    "y={1:'okok', True:'abc', 'cle': False, False: [1,4,'azc']}\n",
    "print(e)"
   ]
  },
  {
   "cell_type": "code",
   "execution_count": 43,
   "metadata": {
    "collapsed": false
   },
   "outputs": [
    {
     "name": "stdout",
     "output_type": "stream",
     "text": [
      "['0abc', [2, 15], None, {False: [1, 4, 'azc'], 1: 'abc', 'cle': False}, 3.0]\n",
      "{False: [1, 4, 'azc'], 1: 'abc', 'cle': False}\n",
      "[1, 4, 'azc']\n",
      "azc\n",
      "z\n"
     ]
    }
   ],
   "source": [
    "print(e)\n",
    "print(e[3])\n",
    "print(e[3][False])\n",
    "print(e[3][False][2])\n",
    "print(e[3][False][2][1])"
   ]
  },
  {
   "cell_type": "code",
   "execution_count": 51,
   "metadata": {
    "collapsed": false
   },
   "outputs": [
    {
     "name": "stdout",
     "output_type": "stream",
     "text": [
      "1\n",
      "1\n",
      "1\n"
     ]
    }
   ],
   "source": [
    "print(int(3/2))\n",
    "print(3//2)\n",
    "print(3%2)"
   ]
  },
  {
   "cell_type": "code",
   "execution_count": 53,
   "metadata": {
    "collapsed": false
   },
   "outputs": [
    {
     "name": "stdout",
     "output_type": "stream",
     "text": [
      "0\n",
      "1\n",
      "2\n",
      "0\n",
      "1\n"
     ]
    }
   ],
   "source": [
    "print(0%3)\n",
    "print(1%3)\n",
    "print(2%3)\n",
    "print(3%3)\n",
    "print(4%3)"
   ]
  },
  {
   "cell_type": "code",
   "execution_count": 61,
   "metadata": {
    "collapsed": false
   },
   "outputs": [
    {
     "name": "stdout",
     "output_type": "stream",
     "text": [
      "2\n"
     ]
    }
   ],
   "source": [
    "print(4 >> 1) # 100 -> 010"
   ]
  },
  {
   "cell_type": "code",
   "execution_count": 63,
   "metadata": {
    "collapsed": false
   },
   "outputs": [
    {
     "name": "stdout",
     "output_type": "stream",
     "text": [
      "[0, 0, 0, 1, 1, 1, 1]\n"
     ]
    }
   ],
   "source": [
    "print([0]*3 + [1]*4)"
   ]
  },
  {
   "cell_type": "code",
   "execution_count": 66,
   "metadata": {
    "collapsed": false
   },
   "outputs": [
    {
     "name": "stdout",
     "output_type": "stream",
     "text": [
      "3\n"
     ]
    }
   ],
   "source": [
    "print(len(b))"
   ]
  },
  {
   "cell_type": "code",
   "execution_count": 3,
   "metadata": {
    "collapsed": false
   },
   "outputs": [
    {
     "name": "stdout",
     "output_type": "stream",
     "text": [
      "4\n"
     ]
    }
   ],
   "source": [
    "import numpy as np\n",
    "array = np.array([[1024, 0,3], [1, 2, 4]]).astype(np.uint32)\n",
    "print(array[1,2])"
   ]
  },
  {
   "cell_type": "code",
   "execution_count": 25,
   "metadata": {
    "collapsed": false
   },
   "outputs": [
    {
     "name": "stdout",
     "output_type": "stream",
     "text": [
      "[2, 3, 8]\n"
     ]
    }
   ],
   "source": [
    "maliste = [1024, 8, 8, 0, 3, 1, 2, 4]\n",
    "print(maliste[-2:1:-2])"
   ]
  },
  {
   "cell_type": "code",
   "execution_count": 27,
   "metadata": {
    "collapsed": false
   },
   "outputs": [
    {
     "name": "stdout",
     "output_type": "stream",
     "text": [
      "[1024, 0, 2, 3, 1, 4, 8]\n"
     ]
    }
   ],
   "source": [
    "print(list(set(maliste)))"
   ]
  },
  {
   "cell_type": "code",
   "execution_count": 30,
   "metadata": {
    "collapsed": false
   },
   "outputs": [],
   "source": [
    "b = set()"
   ]
  },
  {
   "cell_type": "code",
   "execution_count": 38,
   "metadata": {
    "collapsed": false
   },
   "outputs": [
    {
     "name": "stdout",
     "output_type": "stream",
     "text": [
      "Quel est votre nom ?Mickael\n",
      "Quel est votre date de naissance ?1991\n"
     ]
    }
   ],
   "source": [
    "nom = input(\"Quel est votre nom ?\")\n",
    "annee = input(\"Quel est votre date de naissance ?\")\n",
    "\n",
    "age = 2018 - int(annee)\n",
    "\n",
    "\n",
    "# 2.7 utilser raw_input"
   ]
  },
  {
   "cell_type": "code",
   "execution_count": 75,
   "metadata": {
    "collapsed": false
   },
   "outputs": [
    {
     "name": "stdout",
     "output_type": "stream",
     "text": [
      "Mon nom est : MickaelMon age est : 27\n",
      "Mon nom est : Mickael Mon age est : 27.00. Je suis content d'avoir 27 an\n"
     ]
    }
   ],
   "source": [
    "from datetime import date\n",
    "\n",
    "currentYear = date.today().year\n",
    "print(\"Mon nom est : \"+nom+\"Mon age est : \"+str(age))\n",
    "print(\"Mon nom est : %(monnom)s Mon age est : %(monage).2f. Je suis content d'avoir %(monage)d an\"%{'monnom':nom,'monage':currentYear-int(annee)})"
   ]
  },
  {
   "cell_type": "code",
   "execution_count": 65,
   "metadata": {
    "collapsed": false
   },
   "outputs": [
    {
     "name": "stdout",
     "output_type": "stream",
     "text": [
      "2018\n"
     ]
    }
   ],
   "source": [
    "#help(dt)\n",
    "from datetime import date\n",
    "\n",
    "print(date.today().year)\n",
    "#madate = dt.Date.today()"
   ]
  },
  {
   "cell_type": "code",
   "execution_count": 86,
   "metadata": {
    "collapsed": false
   },
   "outputs": [
    {
     "name": "stdout",
     "output_type": "stream",
     "text": [
      "Mineur\n"
     ]
    }
   ],
   "source": [
    "age=60\n",
    "if age < 18:\n",
    "    print(\"Mineur\")\n",
    "else:\n",
    "    print(\"Majeur\")\n",
    "    if age > 21:\n",
    "        print(\"Tu peux boire de l'alcool\")"
   ]
  },
  {
   "cell_type": "code",
   "execution_count": 90,
   "metadata": {
    "collapsed": false
   },
   "outputs": [
    {
     "name": "stdout",
     "output_type": "stream",
     "text": [
      "majeur et conduite\n"
     ]
    }
   ],
   "source": [
    "age= 25\n",
    "if age>18:\n",
    "    if age > 21:\n",
    "        print(\"majeur et conduite\")\n",
    "    else:\n",
    "        print(\"majeur\")\n",
    "elif age < 18:\n",
    "    print(\"mineur\")\n",
    "elif age == 18:\n",
    "    print(\"joyeux anniversaire\")"
   ]
  },
  {
   "cell_type": "code",
   "execution_count": 91,
   "metadata": {
    "collapsed": false
   },
   "outputs": [
    {
     "name": "stdout",
     "output_type": "stream",
     "text": [
      "majeur et conduite\n"
     ]
    }
   ],
   "source": [
    "age= 25\n",
    "if age>18 and age<=21:\n",
    "    print(\"majeur\")\n",
    "elif age > 21:\n",
    "    print(\"majeur et conduite\")\n",
    "elif age < 18:\n",
    "    print(\"mineur\")\n",
    "elif age == 18:\n",
    "    print(\"joyeux anniversaire\")"
   ]
  },
  {
   "cell_type": "code",
   "execution_count": 94,
   "metadata": {
    "collapsed": false
   },
   "outputs": [
    {
     "name": "stdout",
     "output_type": "stream",
     "text": [
      "majeur\n"
     ]
    }
   ],
   "source": [
    "print(\"majeur\" if age > 18 else \"mineur\")\n"
   ]
  },
  {
   "cell_type": "code",
   "execution_count": 95,
   "metadata": {
    "collapsed": false
   },
   "outputs": [
    {
     "name": "stdout",
     "output_type": "stream",
     "text": [
      "a\n",
      "r\n",
      "2\n",
      "8\n"
     ]
    }
   ],
   "source": [
    "for i in ['a', 'r', 2, 8]:\n",
    "    print(i)"
   ]
  },
  {
   "cell_type": "code",
   "execution_count": 97,
   "metadata": {
    "collapsed": false
   },
   "outputs": [
    {
     "name": "stdout",
     "output_type": "stream",
     "text": [
      "a\n",
      "r\n",
      "2\n",
      "8\n"
     ]
    }
   ],
   "source": [
    "montableau= ['a', 'r', 2, 8]\n",
    "for i in range(len(montableau)):\n",
    "    print(montableau[i])"
   ]
  },
  {
   "cell_type": "code",
   "execution_count": 1,
   "metadata": {
    "collapsed": false
   },
   "outputs": [
    {
     "name": "stdout",
     "output_type": "stream",
     "text": [
      "0\n",
      "1\n",
      "2\n",
      "3\n",
      "4\n",
      "0\n",
      "1\n",
      "2\n",
      "3\n",
      "4\n",
      "0\n",
      "1\n",
      "2\n",
      "3\n",
      "4\n",
      "0\n",
      "1\n",
      "2\n",
      "3\n",
      "4\n"
     ]
    }
   ],
   "source": [
    "#print([0,1,2,3,4]*4)\n",
    "nbdevaleur = 20\n",
    "compteur=0\n",
    "valeur=0\n",
    "while compteur<20:\n",
    "        print(valeur)\n",
    "        if(valeur==4):\n",
    "            valeur=-1\n",
    "        valeur +=1\n",
    "        compteur += 1"
   ]
  },
  {
   "cell_type": "code",
   "execution_count": 99,
   "metadata": {
    "collapsed": false
   },
   "outputs": [
    {
     "name": "stdout",
     "output_type": "stream",
     "text": [
      "range(0, 6)\n"
     ]
    }
   ],
   "source": [
    "print(range(6))"
   ]
  },
  {
   "cell_type": "code",
   "execution_count": 2,
   "metadata": {
    "collapsed": true
   },
   "outputs": [],
   "source": [
    "a = [ i%5 for i in range(20)]"
   ]
  },
  {
   "cell_type": "code",
   "execution_count": 3,
   "metadata": {
    "collapsed": false
   },
   "outputs": [
    {
     "name": "stdout",
     "output_type": "stream",
     "text": [
      "[0, 1, 2, 3, 4, 0, 1, 2, 3, 4, 0, 1, 2, 3, 4, 0, 1, 2, 3, 4]\n"
     ]
    }
   ],
   "source": [
    "print(a)"
   ]
  },
  {
   "cell_type": "code",
   "execution_count": 4,
   "metadata": {
    "collapsed": true
   },
   "outputs": [],
   "source": [
    "maclasse = [\n",
    "    { 'nom': 'Tony', 'age': '18'},\n",
    "    { 'nom': 'Tanguy', 'age': '19'},\n",
    "    { 'nom': 'Thomas', 'age': '17'},\n",
    "    { 'nom': 'Tatiana', 'age': '18'},\n",
    "    { 'nom': 'Tamara', 'age': '19'},\n",
    "    { 'nom': 'Tiffany', 'age': '28'}\n",
    "]\n"
   ]
  },
  {
   "cell_type": "code",
   "execution_count": 9,
   "metadata": {
    "collapsed": false
   },
   "outputs": [
    {
     "name": "stdout",
     "output_type": "stream",
     "text": [
      "['mineur', 'majeur', 'mineur', 'mineur', 'majeur', 'majeur']\n"
     ]
    }
   ],
   "source": [
    "print([\"majeur\" if int(eleve['age']) > 18 else \"mineur\" for eleve  in maclasse ])"
   ]
  },
  {
   "cell_type": "code",
   "execution_count": 10,
   "metadata": {
    "collapsed": false
   },
   "outputs": [
    {
     "name": "stdout",
     "output_type": "stream",
     "text": [
      "['Tanguy', 'Tamara', 'Tiffany']\n"
     ]
    }
   ],
   "source": [
    "print([eleve['nom'] for eleve  in maclasse if int(eleve['age'])>18])"
   ]
  },
  {
   "cell_type": "code",
   "execution_count": 3,
   "metadata": {
    "collapsed": false
   },
   "outputs": [],
   "source": [
    "famille= \"Delatour\"\n",
    "def direbonjour(name, prefix='', suffix=''):\n",
    "    prenom= \"Mickael\"\n",
    "    #global famille\n",
    "    print(famille)\n",
    "    #famille= \"Dussautoir\"\n",
    "    print(famille)\n",
    "    print(\"Bonjour \"+prefix+\" \"+name+\" \"+suffix)"
   ]
  },
  {
   "cell_type": "code",
   "execution_count": 4,
   "metadata": {
    "collapsed": false
   },
   "outputs": [
    {
     "name": "stdout",
     "output_type": "stream",
     "text": [
      "Delatour\n",
      "Delatour\n",
      "Bonjour Ledu Francois Dr\n"
     ]
    }
   ],
   "source": [
    "direbonjour(\"Francois\", suffix=\"Dr\", prefix=\"Ledu\")"
   ]
  },
  {
   "cell_type": "code",
   "execution_count": 18,
   "metadata": {
    "collapsed": false
   },
   "outputs": [
    {
     "name": "stdout",
     "output_type": "stream",
     "text": [
      "Bonjour  BOLNET \n"
     ]
    }
   ],
   "source": [
    "name=\"BOLNET\"\n",
    "direbonjour(name)"
   ]
  },
  {
   "cell_type": "code",
   "execution_count": 19,
   "metadata": {
    "collapsed": false
   },
   "outputs": [
    {
     "name": "stdout",
     "output_type": "stream",
     "text": [
      "Bonjour  TOTO BOLNET\n"
     ]
    }
   ],
   "source": [
    "direbonjour(\"TOTO\", suffix=name)"
   ]
  },
  {
   "cell_type": "code",
   "execution_count": 34,
   "metadata": {
    "collapsed": false
   },
   "outputs": [
    {
     "name": "stdout",
     "output_type": "stream",
     "text": [
      "Dussautoir\n"
     ]
    }
   ],
   "source": [
    "print(famille)"
   ]
  },
  {
   "cell_type": "code",
   "execution_count": 36,
   "metadata": {
    "collapsed": false
   },
   "outputs": [
    {
     "name": "stdout",
     "output_type": "stream",
     "text": [
      "6\n",
      "4\n"
     ]
    }
   ],
   "source": [
    "def AddTwo(integer):\n",
    "    integer = integer +2\n",
    "    return integer\n",
    "\n",
    "a = 4\n",
    "print(AddTwo(a))\n",
    "print(a)"
   ]
  },
  {
   "cell_type": "code",
   "execution_count": 43,
   "metadata": {
    "collapsed": false
   },
   "outputs": [
    {
     "name": "stdout",
     "output_type": "stream",
     "text": [
      "6\n",
      "{'valeur': 6}\n"
     ]
    }
   ],
   "source": [
    "def AddTwoObj(obj):\n",
    "    obj['valeur'] = obj['valeur'] +2\n",
    "    return obj\n",
    "\n",
    "a = {'valeur': 4}\n",
    "print(AddTwoObj(a)['valeur'])\n",
    "print(a)"
   ]
  },
  {
   "cell_type": "code",
   "execution_count": 14,
   "metadata": {
    "collapsed": false
   },
   "outputs": [],
   "source": [
    "import numpy as np\n",
    "\n",
    "def strategy1(x,y):\n",
    "    return int((x+y)/2)\n",
    "\n",
    "def strategy2(x,y):\n",
    "    return np.random.randint(x,y+1)\n",
    "\n",
    "def strategies1(n):\n",
    "    return lambda x,y: int((x+y)/n)\n",
    "\n",
    "def solver(strategy=lambda x,y:int((x+y)/2)):\n",
    "    vmin=0\n",
    "    vmax= 100\n",
    "\n",
    "    while True:\n",
    "        estim = strategy(vmin, vmax)\n",
    "        rep= input(\"Est-ce que le résultat est : \"+ str(estim)+ \" --> < / = / >  ?\")\n",
    "        if(rep == \"=\"):\n",
    "            print(\"YOUPI\")\n",
    "            break\n",
    "        elif(rep == \"<\"):\n",
    "            vmax = estim\n",
    "        elif(rep == \">\"):\n",
    "            vmin = estim\n",
    "        else:\n",
    "            print(\"Répondez par <, = ou > !\")"
   ]
  },
  {
   "cell_type": "code",
   "execution_count": 15,
   "metadata": {
    "collapsed": false
   },
   "outputs": [
    {
     "name": "stdout",
     "output_type": "stream",
     "text": [
      "Est-ce que le résultat est : 19 --> < / = / >  ?>\n",
      "Est-ce que le résultat est : 26 --> < / = / >  ?<\n",
      "Est-ce que le résultat est : 23 --> < / = / >  ?>\n",
      "Est-ce que le résultat est : 26 --> < / = / >  ?<\n",
      "Est-ce que le résultat est : 25 --> < / = / >  ?<\n",
      "Est-ce que le résultat est : 23 --> < / = / >  ?>\n",
      "Est-ce que le résultat est : 24 --> < / = / >  ?=\n",
      "YOUPI\n"
     ]
    }
   ],
   "source": [
    "#print(strategy1(2,4))\n",
    "solver(strategy2)"
   ]
  },
  {
   "cell_type": "code",
   "execution_count": null,
   "metadata": {
    "collapsed": true
   },
   "outputs": [],
   "source": []
  }
 ],
 "metadata": {
  "kernelspec": {
   "display_name": "Python 3",
   "language": "python",
   "name": "python3"
  },
  "language_info": {
   "codemirror_mode": {
    "name": "ipython",
    "version": 3
   },
   "file_extension": ".py",
   "mimetype": "text/x-python",
   "name": "python",
   "nbconvert_exporter": "python",
   "pygments_lexer": "ipython3",
   "version": "3.5.3"
  }
 },
 "nbformat": 4,
 "nbformat_minor": 0
}
