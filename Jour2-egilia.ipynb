{
 "cells": [
  {
   "cell_type": "code",
   "execution_count": 10,
   "metadata": {
    "collapsed": false
   },
   "outputs": [],
   "source": [
    "def maFonction():\n",
    "    mavariable = 2\n",
    "    print(mavariable)\n",
    "\n"
   ]
  },
  {
   "cell_type": "code",
   "execution_count": 11,
   "metadata": {
    "collapsed": true
   },
   "outputs": [],
   "source": [
    "def maFonction2():\n",
    "    print(5)\n"
   ]
  },
  {
   "cell_type": "code",
   "execution_count": 13,
   "metadata": {
    "collapsed": true
   },
   "outputs": [],
   "source": [
    "def displayMessage(func):\n",
    "    func()\n",
    "def displayMessage1(mess):\n",
    "    print(mess)"
   ]
  },
  {
   "cell_type": "code",
   "execution_count": 15,
   "metadata": {
    "collapsed": false
   },
   "outputs": [
    {
     "name": "stdout",
     "output_type": "stream",
     "text": [
      "2\n"
     ]
    },
    {
     "ename": "TypeError",
     "evalue": "'NoneType' object is not callable",
     "output_type": "error",
     "traceback": [
      "\u001b[1;31m---------------------------------------------------------------------------\u001b[0m",
      "\u001b[1;31mTypeError\u001b[0m                                 Traceback (most recent call last)",
      "\u001b[1;32m<ipython-input-15-0a9d96c4f213>\u001b[0m in \u001b[0;36m<module>\u001b[1;34m()\u001b[0m\n\u001b[0;32m      1\u001b[0m \u001b[1;31m#displayMessage1(2+2)\u001b[0m\u001b[1;33m\u001b[0m\u001b[1;33m\u001b[0m\u001b[0m\n\u001b[1;32m----> 2\u001b[1;33m \u001b[0mdisplayMessage\u001b[0m\u001b[1;33m(\u001b[0m\u001b[0mmaFonction\u001b[0m\u001b[1;33m(\u001b[0m\u001b[1;33m)\u001b[0m\u001b[1;33m)\u001b[0m\u001b[1;33m\u001b[0m\u001b[0m\n\u001b[0m",
      "\u001b[1;32m<ipython-input-13-a90b0d4800b7>\u001b[0m in \u001b[0;36mdisplayMessage\u001b[1;34m(func)\u001b[0m\n\u001b[0;32m      1\u001b[0m \u001b[1;32mdef\u001b[0m \u001b[0mdisplayMessage\u001b[0m\u001b[1;33m(\u001b[0m\u001b[0mfunc\u001b[0m\u001b[1;33m)\u001b[0m\u001b[1;33m:\u001b[0m\u001b[1;33m\u001b[0m\u001b[0m\n\u001b[1;32m----> 2\u001b[1;33m     \u001b[0mfunc\u001b[0m\u001b[1;33m(\u001b[0m\u001b[1;33m)\u001b[0m\u001b[1;33m\u001b[0m\u001b[0m\n\u001b[0m\u001b[0;32m      3\u001b[0m \u001b[1;32mdef\u001b[0m \u001b[0mdisplayMessage1\u001b[0m\u001b[1;33m(\u001b[0m\u001b[0mmess\u001b[0m\u001b[1;33m)\u001b[0m\u001b[1;33m:\u001b[0m\u001b[1;33m\u001b[0m\u001b[0m\n\u001b[0;32m      4\u001b[0m     \u001b[0mprint\u001b[0m\u001b[1;33m(\u001b[0m\u001b[0mmess\u001b[0m\u001b[1;33m)\u001b[0m\u001b[1;33m\u001b[0m\u001b[0m\n",
      "\u001b[1;31mTypeError\u001b[0m: 'NoneType' object is not callable"
     ]
    }
   ],
   "source": [
    "displayMessage1(2+2)\n",
    "#displayMessage(maFonction())"
   ]
  },
  {
   "cell_type": "code",
   "execution_count": 25,
   "metadata": {
    "collapsed": false
   },
   "outputs": [
    {
     "name": "stdout",
     "output_type": "stream",
     "text": [
      "5\n",
      "4\n",
      "3\n",
      "2\n",
      "1\n",
      "0\n"
     ]
    }
   ],
   "source": [
    "def CompteARebours(depart):\n",
    "    print(depart)\n",
    "    if(depart>0):\n",
    "        CompteARebours(depart-1)\n",
    "\n",
    "#print(CompteARebours(10))\n",
    "#CompteARebours(5)\n",
    "\n",
    "for i in range(5,-1,-1):\n",
    "    print(i)"
   ]
  },
  {
   "cell_type": "code",
   "execution_count": 27,
   "metadata": {
    "collapsed": false
   },
   "outputs": [
    {
     "data": {
      "text/plain": [
       "False"
      ]
     },
     "execution_count": 27,
     "metadata": {},
     "output_type": "execute_result"
    }
   ],
   "source": [
    "def isPalindrome(mot):\n",
    "    #return True si mot est un palindrome else return false\n",
    "    #RADAR, ABBA, LAMAL\n",
    "    return mot == mot[::-1]\n",
    "\n",
    "def isPalindrome(mot):\n",
    "    #return True si mot est un palindrome else return false\n",
    "    #RADAR, ABBA, LAMAL\n",
    "    for i in range(len(mot)):\n",
    "        if(mot[i] != mot[len(mot)-i]):\n",
    "            return False\n",
    "    return True\n",
    "\n",
    "def moyenne(elements):\n",
    "    resultat=0\n",
    "    for val in elements:\n",
    "        resultat = val + resultat\n",
    "    return resultat/len(elements)\n",
    "    \n",
    "moyenne([1,8,3,4])\n",
    "\n",
    "def isAnagram(mot1='', mot2=''):\n",
    "    #return True if mot1 et mot2 sont anagramme else return false\n",
    "    #remi/rime, raté/taré, abc/cab\n",
    "    for premiereLettre in mot1:\n",
    "        trouve=False\n",
    "        for lettre in mot2:\n",
    "            if(lettre == premiereLettre):\n",
    "                trouve=True\n",
    "        if(trouve == False):\n",
    "            return False\n",
    "    return True\n",
    "\n",
    "mon_mot=\"koka\"\n",
    "deuxieme_mot=\"kako\"\n",
    "isPalindrome(\"RODAR\")"
   ]
  },
  {
   "cell_type": "code",
   "execution_count": 35,
   "metadata": {
    "collapsed": false
   },
   "outputs": [
    {
     "name": "stdout",
     "output_type": "stream",
     "text": [
      "abcd\n"
     ]
    }
   ],
   "source": [
    "print(\"abcdefgh\"[:4])"
   ]
  },
  {
   "cell_type": "code",
   "execution_count": 37,
   "metadata": {
    "collapsed": false
   },
   "outputs": [
    {
     "name": "stdout",
     "output_type": "stream",
     "text": [
      "[1, 5, 4, 7, 3, 8]\n"
     ]
    }
   ],
   "source": [
    "tableau = [1, 5, 8, 4, 7, 3]\n",
    "\n",
    "def tri_de_base(tab):\n",
    "    for j in range(len(tab)):\n",
    "        for i in range(len(tab)-1):\n",
    "            if tab[i]>tab[i+1]:\n",
    "                tmp=tab[i]\n",
    "                tab[i]=tab[i+1]\n",
    "                tab[i+1]=tmp\n",
    "    return tab\n",
    "\n",
    "print(tri_de_base(tableau))"
   ]
  },
  {
   "cell_type": "code",
   "execution_count": 38,
   "metadata": {
    "collapsed": false
   },
   "outputs": [
    {
     "name": "stdout",
     "output_type": "stream",
     "text": [
      "[1, 3, 6]\n",
      "[2, 4, 5]\n"
     ]
    }
   ],
   "source": [
    "print([1,3,6])\n",
    "print([2,4,5])"
   ]
  },
  {
   "cell_type": "code",
   "execution_count": 43,
   "metadata": {
    "collapsed": false
   },
   "outputs": [
    {
     "name": "stdout",
     "output_type": "stream",
     "text": [
      "[1, 2, 4, 5, 6, 7, 9]\n"
     ]
    },
    {
     "data": {
      "text/plain": [
       "[1, 2, 4, 5, 6, 7, 9]"
      ]
     },
     "execution_count": 43,
     "metadata": {},
     "output_type": "execute_result"
    }
   ],
   "source": [
    "def fusion(tab1, tab2):\n",
    "    resultat= []\n",
    "    i=0\n",
    "    j=0\n",
    "    while i<len(tab1) and j<len(tab2):\n",
    "        if(tab1[i]<tab2[j]):\n",
    "            resultat.append(tab1[i])\n",
    "            i += 1\n",
    "        else:\n",
    "            resultat.append(tab2[j])\n",
    "            j += 1\n",
    "    if i<len(tab1):\n",
    "        resultat.extend(tab1[i:])\n",
    "    else:\n",
    "        resultat.extend(tab2[j:])\n",
    "    return resultat\n",
    "\n",
    "\n",
    "def tri_fusion(tab):\n",
    "    if(len(tab)<=1):\n",
    "        return tab\n",
    "    elif(len(tab)==2):\n",
    "        if tab[0]>tab[1]:\n",
    "            tmp=tab[0]\n",
    "            tab[0]=tab[1]\n",
    "            tab[1]=tmp\n",
    "        return tab\n",
    "    else:\n",
    "        return fusion(tri_fusion(tab[:len(tab)//2]),tri_fusion(tab[len(tab)//2:]))\n",
    "\n",
    "print(fusion([1,5,7,9],[2,4,6]))\n",
    "tri_fusion([1,5,7,9,2,4,6])"
   ]
  },
  {
   "cell_type": "code",
   "execution_count": 40,
   "metadata": {
    "collapsed": false
   },
   "outputs": [
    {
     "name": "stdout",
     "output_type": "stream",
     "text": [
      "[2]\n",
      "[2, 5]\n"
     ]
    }
   ],
   "source": [
    "tab = []\n",
    "tab.append(2)\n",
    "print(tab)\n",
    "tab.append(5)\n",
    "print(tab)"
   ]
  },
  {
   "cell_type": "code",
   "execution_count": 44,
   "metadata": {
    "collapsed": false
   },
   "outputs": [
    {
     "ename": "SyntaxError",
     "evalue": "unexpected EOF while parsing (<ipython-input-44-47a3ecb67327>, line 3)",
     "output_type": "error",
     "traceback": [
      "\u001b[1;36m  File \u001b[1;32m\"<ipython-input-44-47a3ecb67327>\"\u001b[1;36m, line \u001b[1;32m3\u001b[0m\n\u001b[1;33m    # array=[1,2,3,4] et def modifier(x): return 2*x alors printer(array, modifier) -> [2,4,6,8]\u001b[0m\n\u001b[1;37m                                                                                                 ^\u001b[0m\n\u001b[1;31mSyntaxError\u001b[0m\u001b[1;31m:\u001b[0m unexpected EOF while parsing\n"
     ]
    }
   ],
   "source": [
    "def printer(array, modifier):\n",
    "    # imprime chaque élément du tableau modifier par la fonction \"modifier\"\n",
    "    # array=[1,2,3,4] et def modifier(x): return 2*x alors printer(array, modifier) -> [2,4,6,8] "
   ]
  },
  {
   "cell_type": "code",
   "execution_count": 46,
   "metadata": {
    "collapsed": false
   },
   "outputs": [
    {
     "name": "stdout",
     "output_type": "stream",
     "text": [
      "1\n",
      "6\n",
      "3\n",
      "5\n"
     ]
    }
   ],
   "source": [
    "#for i in range(len([1,3,2,5])):\n",
    "#    print(i)"
   ]
  },
  {
   "cell_type": "code",
   "execution_count": 54,
   "metadata": {
    "collapsed": false
   },
   "outputs": [
    {
     "name": "stdout",
     "output_type": "stream",
     "text": [
      "bonjour\n",
      "Hello Bonbon\n"
     ]
    }
   ],
   "source": [
    "def print_bonjour():\n",
    "    print(\"bonjour\")\n",
    "    return \"Bonbon\"\n",
    "\n",
    "def sayHello(name):\n",
    "    print(\"Hello \"+name)\n",
    "\n",
    "sayHello(print_bonjour())"
   ]
  },
  {
   "cell_type": "code",
   "execution_count": 59,
   "metadata": {
    "collapsed": true
   },
   "outputs": [],
   "source": [
    "with open(\"monfichier.txt\", \"w\") as fichier:\n",
    "    fichier.write(\"bonjour\")"
   ]
  },
  {
   "cell_type": "code",
   "execution_count": 80,
   "metadata": {
    "collapsed": false
   },
   "outputs": [
    {
     "name": "stdout",
     "output_type": "stream",
     "text": [
      "Francois;36;Bucher\n",
      "\n",
      "Souleymane;31;Toure\n",
      "\n",
      "Isma;99;Sadoun\n",
      "\n",
      "\n"
     ]
    }
   ],
   "source": [
    "with open(\"monfichier.txt\", \"r\") as fichier:\n",
    "    print(fichier.read())"
   ]
  },
  {
   "cell_type": "code",
   "execution_count": 57,
   "metadata": {
    "collapsed": true
   },
   "outputs": [],
   "source": [
    "with open(\"monfichier.txt\", \"a\") as fichier:\n",
    "    fichier.write(\"bonjour\")"
   ]
  },
  {
   "cell_type": "code",
   "execution_count": 70,
   "metadata": {
    "collapsed": false
   },
   "outputs": [],
   "source": [
    "import csv\n",
    "\n",
    "with open(\"monfichier.txt\", \"w\") as file:\n",
    "    writer= csv.writer(file, delimiter=\";\")\n",
    "    writer.writerow([12,18,\"bonjour\"])"
   ]
  },
  {
   "cell_type": "code",
   "execution_count": 79,
   "metadata": {
    "collapsed": false
   },
   "outputs": [],
   "source": [
    "eleves = [\n",
    "    {'nom': 'Bucher', 'prenom': 'Francois', 'age': 36},\n",
    "    {'nom': 'Toure', 'prenom': 'Souleymane', 'age': 31},\n",
    "    {'nom': 'Sadoun', 'prenom': 'Isma', 'age': 99}\n",
    "]\n",
    "\n",
    "with open(\"monfichier.txt\", \"w\") as file:\n",
    "    writer= csv.writer(file, delimiter=\";\")\n",
    "    for eleve in [[eleve[key] for key in eleve] for eleve in eleves]:\n",
    "        writer.writerow(eleve)"
   ]
  },
  {
   "cell_type": "code",
   "execution_count": 78,
   "metadata": {
    "collapsed": false
   },
   "outputs": [
    {
     "name": "stdout",
     "output_type": "stream",
     "text": [
      "[['Francois', 36, 'Bucher'], ['Souleymane', 31, 'Toure'], ['Isma', 99, 'Sadoun']]\n"
     ]
    }
   ],
   "source": [
    "print([[eleve[key] for key in eleve] for eleve in eleves])"
   ]
  },
  {
   "cell_type": "code",
   "execution_count": null,
   "metadata": {
    "collapsed": true
   },
   "outputs": [],
   "source": []
  }
 ],
 "metadata": {
  "kernelspec": {
   "display_name": "Python 3",
   "language": "python",
   "name": "python3"
  },
  "language_info": {
   "codemirror_mode": {
    "name": "ipython",
    "version": 3
   },
   "file_extension": ".py",
   "mimetype": "text/x-python",
   "name": "python",
   "nbconvert_exporter": "python",
   "pygments_lexer": "ipython3",
   "version": "3.5.3"
  }
 },
 "nbformat": 4,
 "nbformat_minor": 0
}
